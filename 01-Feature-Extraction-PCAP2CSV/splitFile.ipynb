{
 "cells": [
  {
   "cell_type": "code",
   "execution_count": 1,
   "metadata": {},
   "outputs": [],
   "source": [
    "import pandas as pd\n",
    "from sklearn.model_selection import train_test_split\n",
    "from sklearn.utils import shuffle"
   ]
  },
  {
   "cell_type": "code",
   "execution_count": null,
   "metadata": {},
   "outputs": [
    {
     "name": "stdout",
     "output_type": "stream",
     "text": [
      "               ts          Ether_dst          Ether_src           IP_src  \\\n",
      "30765    0.000000  04:32:f4:45:17:b3  f0:18:98:3a:0b:76  111.230.133.132   \n",
      "8932     0.000000  04:32:f4:45:17:b3  f0:18:98:3a:0b:76    111.30.112.24   \n",
      "16383    7.736373  04:32:f4:45:17:b3  f0:18:98:5e:ff:9f  151.101.230.110   \n",
      "5623   121.896056  04:32:f4:45:17:b3  88:36:6c:d7:1c:56  222.239.240.107   \n",
      "30956    7.936145  04:32:f4:45:17:b3  f0:18:98:5e:ff:9f  151.101.230.110   \n",
      "\n",
      "             IP_dst  pck_size  Ether_type  LLC_dsap  LLC_ssap  LLC_ctrl  ...  \\\n",
      "30765  192.168.0.24        40        2048         0         0         0  ...   \n",
      "8932   192.168.0.24        40        2048         0         0         0  ...   \n",
      "16383  192.168.0.24      1500        2048         0         0         0  ...   \n",
      "5623   192.168.0.24      1500        2048         0         0         0  ...   \n",
      "30956  192.168.0.24      1500        2048         0         0         0  ...   \n",
      "\n",
      "       pck_size_std_9   ts_mean_9  ts_std_9  TCP_window_mean_9  \\\n",
      "30765             0.0    0.000000  0.000000                0.0   \n",
      "8932              0.0    0.000000  0.000000                0.0   \n",
      "16383             0.0    7.724237  0.013790               64.0   \n",
      "5623              0.0  121.895065  0.000679              164.0   \n",
      "30956             0.0    7.934672  0.001780               64.0   \n",
      "\n",
      "       TCP_window_std_9  payload_bytes_mean_9  payload_bytes_std_9  \\\n",
      "30765               0.0                   0.0                  0.0   \n",
      "8932                0.0                   0.0                  0.0   \n",
      "16383               0.0                1448.0                  0.0   \n",
      "5623                0.0                1448.0                  0.0   \n",
      "30956               0.0                1448.0                  0.0   \n",
      "\n",
      "       entropy_mean_9  entropy_std_9         Label  \n",
      "30765        0.000000       0.000000  SYN-Flooding  \n",
      "8932         0.000000       0.000000  SYN-Flooding  \n",
      "16383        7.869422       0.013486  ARP-Spoofing  \n",
      "5623         7.870629       0.011463        Benign  \n",
      "30956        7.866665       0.014706  ARP-Spoofing  \n",
      "\n",
      "[5 rows x 188 columns]\n"
     ]
    }
   ],
   "source": [
    "import pandas as pd\n",
    "# test dos-synflooding-6-dec_SW  mitm-arpspoofing-5-dec_SW  test merge 2 file đó làm tập test này của old version\n",
    "# train dos-synflooding-2-dec_SW mitm-arpspoofing-3-dec_SW\n",
    "# validate dos-synflooding-3-dec_SW mitm-arpspoofing-5-dec_SW\n",
    "# Đọc dữ liệu\n",
    "df_arp = pd.read_csv('./SW-arp/dos-synflooding-6-dec_SW.csv')\n",
    "df_syn = pd.read_csv('./SW-syn/train_syn_arp_data.csv')\n",
    "\n",
    "# Lấy danh sách cột từ DataFrame đầu tiên\n",
    "columns = df_arp.columns\n",
    "\n",
    "# Đặt lại thứ tự cột của DataFrame thứ hai để khớp với DataFrame đầu tiên\n",
    "df_syn = df_syn[columns]\n",
    "\n",
    "# Gộp hai DataFrame\n",
    "df_combined = pd.concat([df_arp, df_syn], ignore_index=True)\n",
    "# Shuffle DataFrame\n",
    "df_combined = shuffle(df_combined, random_state=42)\n",
    "output_path = './oldData/final_train_syn-arp-attack.csv'\n",
    "df_combined.to_csv(output_path, index=False)\n",
    "# Kiểm tra kết quả\n",
    "print(df_combined.head())\n"
   ]
  },
  {
   "cell_type": "code",
   "execution_count": 4,
   "metadata": {},
   "outputs": [
    {
     "name": "stdout",
     "output_type": "stream",
     "text": [
      "Dữ liệu đã được chia thành train, validate, test với nhãn phân bố đồng đều và lưu thành công!\n"
     ]
    }
   ],
   "source": [
    "\n",
    "\n",
    "# Đọc 2 file CSV\n",
    "df = pd.read_csv('./train-data/syn-3-arp-5-attack-test.csv')\n",
    "\n",
    "# Chia dữ liệu thành train (70%), validate (15%), test (15%) với stratify trên cột label\n",
    "train_df, test_df = train_test_split(\n",
    "    df, test_size=0.2, random_state=42, stratify=df['Label']\n",
    ")\n",
    "# validate_df, test_df = train_test_split(\n",
    "#     temp_df, test_size=0.5, random_state=42, stratify=temp_df['Label']\n",
    "# )\n",
    "\n",
    "# Lưu các tập dữ liệu thành file CSV\n",
    "train_df.to_csv(\"./train-data/train_syn_arp_data.csv\", index=False)\n",
    "# validate_df.to_csv(\"./train-data/validate_syn_arp_data.csv\", index=False)\n",
    "test_df.to_csv(\"./train-data/test_syn_arp_data.csv\", index=False)\n",
    "\n",
    "print(\"Dữ liệu đã được chia thành train, validate, test với nhãn phân bố đồng đều và lưu thành công!\")\n"
   ]
  },
  {
   "cell_type": "code",
   "execution_count": 18,
   "metadata": {},
   "outputs": [
    {
     "name": "stdout",
     "output_type": "stream",
     "text": [
      "Phân phối nhãn trong tập train:\n",
      "Label\n",
      "Benign          0.517152\n",
      "ARP-Spoofing    0.293182\n",
      "SYN-Flooding    0.189666\n",
      "Name: proportion, dtype: float64\n",
      "\n",
      "Phân phối nhãn trong tập validate:\n",
      "Label\n",
      "Benign          0.517151\n",
      "ARP-Spoofing    0.293079\n",
      "SYN-Flooding    0.189769\n",
      "Name: proportion, dtype: float64\n",
      "\n",
      "Phân phối nhãn trong tập test:\n",
      "Label\n",
      "Benign          0.517151\n",
      "ARP-Spoofing    0.293280\n",
      "SYN-Flooding    0.189569\n",
      "Name: proportion, dtype: float64\n"
     ]
    }
   ],
   "source": [
    "# Kiểm tra phân phối nhãn trong các tập dữ liệu\n",
    "print(\"Phân phối nhãn trong tập train:\")\n",
    "print(train_df['Label'].value_counts(normalize=True))\n",
    "\n",
    "print(\"\\nPhân phối nhãn trong tập validate:\")\n",
    "print(validate_df['Label'].value_counts(normalize=True))\n",
    "\n",
    "print(\"\\nPhân phối nhãn trong tập test:\")\n",
    "print(test_df['Label'].value_counts(normalize=True))\n"
   ]
  },
  {
   "cell_type": "code",
   "execution_count": 1,
   "metadata": {},
   "outputs": [],
   "source": [
    "IP_flags = {'0': 1, '<Flag 0 ()>': 2, '<Flag 2 (DF)>': 3, '<Flag 1 (MF)>': 4,'<Flag 3 (MF+DF)>':5,\n",
    "     '<Flag 4 (evil)>':6,\n",
    "     '<Flag 5 (MF+evil)>':7,\n",
    "     '<Flag 6 (DF+evil)>':8,\n",
    "     '<Flag 7 (MF+DF+evil)>':9,\n",
    "     '<Flag 3 (MF+DF)>':10,\n",
    "     '<Flag 4 (evil)>':11,\n",
    "     '<Flag 5 (MF+evil)>':12,\n",
    "     '<Flag 6 (DF+evil)>':13,\n",
    "     '<Flag 7 (MF+DF+evil)>':14,\n",
    "     '<Flag 3 (MF+DF)>':15,\n",
    "     '<Flag 4 (evil)>':16,\n",
    "     '<Flag 5 (MF+evil)>':17,\n",
    "     '<Flag 6 (DF+evil)>':18,\n",
    "     '<Flag 7 (MF+DF+evil)>':19,\n",
    "     '<Flag 3 (MF+DF)>':20,\n",
    "     '<Flag 4 (evil)>':21,\n",
    "     '<Flag 5 (MF+evil)>':22,\n",
    "     '<Flag 6 (DF+evil)>':23,\n",
    "     '<Flag 7 (MF+DF+evil)>':24,\n",
    "     '<Flag 3 (MF+DF)>':25,\n",
    "     '<Flag 4 (evil)>':26,\n",
    "     '<Flag 5 (MF+evil)>':27,\n",
    "     '<Flag 6 (DF+evil)>':28,\n",
    "     '<Flag 7 (MF+DF+evil)>':29,\n",
    "     '<Flag 3 (MF+DF)>':30,\n",
    "     '<Flag 4 (evil)>':31,\n",
    "     '<Flag 5 (MF+evil)>':32,\n",
    "     '<Flag 6 (DF+evil)>':33,\n",
    "     '<Flag 7 (MF+DF+evil)>':34,\n",
    "     '<Flag 3 (MF+DF)>':35,\n",
    "     '<Flag 4 (evil)>':36,\n",
    "     '<Flag 5 (MF+evil)>':37,\n",
    "     '<Flag 6 (DF+evil)>':38,\n",
    "     '<Flag 7 (MF+DF+evil)>':39,\n",
    "     '<Flag 3 (MF+DF)>':40,\n",
    "     '<Flag 4 (evil)>':41,\n",
    "     '<Flag 5 (MF+evil)>':42,\n",
    "     '<Flag 6 (DF+evil)>':43,\n",
    "     '<Flag 7 (MF+DF+evil)>':44}\n",
    "    "
   ]
  }
 ],
 "metadata": {
  "kernelspec": {
   "display_name": "base",
   "language": "python",
   "name": "python3"
  },
  "language_info": {
   "codemirror_mode": {
    "name": "ipython",
    "version": 3
   },
   "file_extension": ".py",
   "mimetype": "text/x-python",
   "name": "python",
   "nbconvert_exporter": "python",
   "pygments_lexer": "ipython3",
   "version": "3.12.3"
  }
 },
 "nbformat": 4,
 "nbformat_minor": 2
}
