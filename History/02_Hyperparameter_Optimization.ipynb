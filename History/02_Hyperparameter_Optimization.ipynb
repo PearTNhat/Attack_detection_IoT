{
  "cells": [
    {
      "cell_type": "code",
      "execution_count": 2,
      "metadata": {
        "id": "2spIgyXOYsaZ"
      },
      "outputs": [],
      "source": [
        "%matplotlib inline\n",
        "from scipy.stats import randint as sp_randint\n",
        "from scipy.stats import uniform\n",
        "from scipy.stats import uniform as sp_randFloat\n",
        "from sklearn import svm\n",
        "from tqdm import tqdm\n",
        "from sklearn.ensemble import GradientBoostingClassifier\n",
        "from sklearn.naive_bayes import CategoricalNB\n",
        "from sklearn.model_selection import GridSearchCV\n",
        "from sklearn.ensemble import RandomForestClassifier\n",
        "from sklearn.model_selection import GridSearchCV\n",
        "from sklearn.model_selection import RandomizedSearchCV\n",
        "from sklearn.model_selection import train_test_split\n",
        "from sklearn.neighbors import KNeighborsClassifier\n",
        "from sklearn.tree import DecisionTreeClassifier\n",
        "from time import time\n",
        "from tabulate import tabulate\n",
        "import numpy as np\n",
        "import pandas as pd\n",
        "import sklearn\n",
        "import warnings\n",
        "warnings.filterwarnings('ignore')\n",
        "import os"
      ]
    },
    {
      "cell_type": "code",
      "execution_count": 3,
      "metadata": {
        "id": "hZ14xJxhYsaa"
      },
      "outputs": [],
      "source": [
        "from scipy.stats import randint as sp_randInt\n",
        "\n",
        "from sklearn.model_selection import GridSearchCV, PredefinedSplit\n",
        "from sklearn.metrics import make_scorer\n",
        "from scipy import sparse"
      ]
    },
    {
      "cell_type": "code",
      "execution_count": 4,
      "metadata": {
        "id": "CQ8VOfX4Ysaa"
      },
      "outputs": [],
      "source": [
        "import json\n",
        "with open('GA_output_ET.json', 'r') as fp:\n",
        "    feature_list = json.load(fp)"
      ]
    },
    {
      "cell_type": "code",
      "execution_count": 5,
      "metadata": {
        "colab": {
          "base_uri": "https://localhost:8080/"
        },
        "id": "DKzfXeBvYsab",
        "outputId": "6d739bb2-75a5-40a4-edb1-ff4d975f6bd1"
      },
      "outputs": [
        {
          "output_type": "execute_result",
          "data": {
            "text/plain": [
              "{'SYN': ['ts',\n",
              "  'IP_flags',\n",
              "  'IP_DF',\n",
              "  'TCP_dataofs',\n",
              "  'TCP_SYN',\n",
              "  'TCP_ACK',\n",
              "  'sport_class',\n",
              "  'dst_IP_diversity',\n",
              "  'dst_port_diversity',\n",
              "  'pck_size_sum_of_EW',\n",
              "  'ts_diff',\n",
              "  'ts_std_WE',\n",
              "  'ts_sum_of_EW',\n",
              "  'TCP_window_std_WE',\n",
              "  'pck_size_mean_2',\n",
              "  'ts_mean_2',\n",
              "  'ts_std_2',\n",
              "  'TCP_window_mean_2',\n",
              "  'TCP_SYN_sum',\n",
              "  'TCP_ACK_sum',\n",
              "  'TCP_SYN_ratio',\n",
              "  'TCP_ACK_SR',\n",
              "  'ts_mean_6',\n",
              "  'ts_std_6',\n",
              "  'pck_size_mean_9',\n",
              "  'ts_mean_9',\n",
              "  'ts_std_9',\n",
              "  'TCP_window_mean_9',\n",
              "  'TCP_ACK_R',\n",
              "  'Label']}"
            ]
          },
          "metadata": {},
          "execution_count": 5
        }
      ],
      "source": [
        "feature_list"
      ]
    },
    {
      "cell_type": "code",
      "execution_count": 10,
      "metadata": {
        "id": "jB0_AewzYsac"
      },
      "outputs": [],
      "source": [
        "file_list={'SYN': ['./INPUT/SM/DoS-SYN-1.csv', './INPUT/VAL/VAL-SYN.csv'],\n",
        "#  'HTTP': ['./INPUT/SM/MB-HTTP-4.csv', './INPUT/VAL/VAL-HTTP.csv'],\n",
        "#  'ACK': ['./INPUT/SM/MB-ACK-4.csv', './INPUT/VAL/VAL-ACK.csv'],\n",
        "#  'UDP': ['./INPUT/SM/MB-UDP-4.csv', './INPUT/VAL/VAL-UDP.csv'],\n",
        "#  'ARP': ['./INPUT/SM/MitM-ARP-6.csv', './INPUT/VAL/VAL-ARP.csv'],\n",
        "#  'SP': ['./INPUT/SM/Scan-Port-3.csv', './INPUT/VAL/VAL-SP.csv'],\n",
        "#  'BF': ['./INPUT/SM/MB-BF-5.csv', './INPUT/VAL/VAL-BF.csv'],\n",
        "#  'OS': ['./INPUT/SM/Scan-OS-3.csv', './INPUT/VAL/VAL-OS.csv'],\n",
        "#  'SCHD': ['./INPUT/SM/Scan-HDis-3.csv', './INPUT/VAL/VAL-SCHD.csv'],\n",
        "#  'MHDis': ['./INPUT/SM/MB-HDis-3.csv', './INPUT/VAL/VAL-MHDis.csv']\n",
        "           }"
      ]
    },
    {
      "cell_type": "code",
      "execution_count": 7,
      "metadata": {
        "id": "ZoRrb-3MYsac"
      },
      "outputs": [],
      "source": [
        "#Thực hiện tìm kiếm ngẫu nhiên (RandomizedSearchCV) để tối ưu hóa siêu tham số của mô hình.\n",
        "def run_random_search(model, params, x_train, y_train):\n",
        "    #grid = GridSearchCV(model, params, cv = ps, n_jobs = -1, scoring = score, verbose = 0, refit = False)\n",
        "    grid =RandomizedSearchCV(model, param_grid, cv=ps,scoring = 'f1_macro')\n",
        "    grid.fit(x_train, y_train)\n",
        "    return (grid.best_params_, round(grid.best_score_,8),grid.best_estimator_)"
      ]
    },
    {
      "cell_type": "code",
      "execution_count": 8,
      "metadata": {
        "id": "fnT4DMmqYsad"
      },
      "outputs": [],
      "source": [
        "def find_the_way(path,file_format,con=\"\"):\n",
        "    files_add = []\n",
        "    # r=root, d=directories, f = files\n",
        "    for r, d, f in os.walk(path):\n",
        "        for file in f:\n",
        "            if file_format in file:\n",
        "                if con in file:\n",
        "                    files_add.append(os.path.join(r, file))\n",
        "\n",
        "    return files_add"
      ]
    },
    {
      "cell_type": "code",
      "execution_count": null,
      "metadata": {
        "id": "OEwy3Hs2Ysad"
      },
      "outputs": [],
      "source": []
    },
    {
      "cell_type": "markdown",
      "metadata": {
        "id": "FSkFZaouYsad"
      },
      "source": [
        "# RandomizedSearchCV RF"
      ]
    },
    {
      "cell_type": "code",
      "execution_count": 13,
      "metadata": {
        "colab": {
          "base_uri": "https://localhost:8080/"
        },
        "id": "x1Agm2djYsad",
        "outputId": "44411507-f0a6-45bc-e3b1-320c42b06792"
      },
      "outputs": [
        {
          "output_type": "stream",
          "name": "stdout",
          "text": [
            "SYN\n",
            "HYPERPARAMETERS                     F1 Score             Time     No      \n",
            "default                             0.9993048201955849   2.01     0       \n"
          ]
        },
        {
          "output_type": "stream",
          "name": "stderr",
          "text": [
            "100%|██████████| 10/10 [05:15<00:00, 31.56s/it]"
          ]
        },
        {
          "output_type": "stream",
          "name": "stdout",
          "text": [
            "    bootst    criter      max_depth    max_features    min_samp_split    n_estimators        F1          Std    Time    No  Attack\n",
            "--  --------  --------  -----------  --------------  ----------------  --------------  --------  -----------  ------  ----  --------\n",
            " 0  False     gini               10              10                 8              76  0.999305  1.11022e-16   33.55     5  SYN\n"
          ]
        },
        {
          "output_type": "stream",
          "name": "stderr",
          "text": [
            "\n"
          ]
        }
      ],
      "source": [
        "#Tối ưu hóa siêu tham số cho Random Forest\n",
        "#Mục đích: Tối ưu hóa siêu tham số cho mô hình Random Forest bằng cách sử dụng RandomizedSearchCV và lưu kết quả vào tệp CSV.\n",
        "lines=[['bootst', 'criter', 'max_depth', 'max_features',\"min_samp_split\",\"n_estimators\", \"F1\",\"Std\",\"Time\",\"No\",\"Attack\"]]\n",
        "\n",
        "for j in file_list:\n",
        "    print(j)\n",
        "    df=pd.read_csv(file_list[j][0],usecols=feature_list[j])\n",
        "    df = df[feature_list[j]]\n",
        "    X_train = df.iloc[:,0:-1]\n",
        "    df['Label'] = df['Label'].astype('category')\n",
        "    y_train=df['Label'].cat.codes\n",
        "\n",
        "\n",
        "    df=pd.read_csv(file_list[j][1],usecols=feature_list[j])\n",
        "    df = df[feature_list[j]]\n",
        "    X_test = df.iloc[:,0:-1]\n",
        "    df['Label'] = df['Label'].astype('category')\n",
        "    y_test=df['Label'].cat.codes\n",
        "\n",
        "\n",
        "\n",
        "    X= np.concatenate([X_train, X_test])\n",
        "    test_fold = [-1 for _ in range(X_train.shape[0])] + [0 for _ in range(X_test.shape[0])]\n",
        "    y = np.concatenate([y_train, y_test])\n",
        "    ps = PredefinedSplit(test_fold)\n",
        "\n",
        "    print ('%-35s %-20s %-8s %-8s' % (\"HYPERPARAMETERS\",\"F1 Score\", \"Time\", \"No\"))\n",
        "\n",
        "\n",
        "\n",
        "    # use a full grid over all parameters\n",
        "    param_grid = {\"max_depth\":np.linspace(1, 32, 32, endpoint=True).astype(int),\n",
        "                  \"n_estimators\" : sp_randint(1, 200),\n",
        "                  \"max_features\": sp_randint(1, 11),\n",
        "                  \"min_samples_split\":sp_randint(2, 11),\n",
        "                  \"bootstrap\": [True, False],\n",
        "                  \"criterion\": [\"gini\", \"entropy\"]}\n",
        "    second=time()\n",
        "    f1=[]\n",
        "    clf=RandomForestClassifier()\n",
        "    for ii in range(1):\n",
        "        clf.fit(X_train, y_train)\n",
        "        predict =clf.predict(X_test)\n",
        "        f1.append(sklearn.metrics.f1_score(y_test, predict,average= \"macro\") )\n",
        "    f1=sum(f1)/len(f1)\n",
        "    #if f1>0.76:\n",
        "    print('%-35s %-20s %-8s %-8s' % (\"default\",f1,round(time()-second,3),ii))\n",
        "\n",
        "\n",
        "\n",
        "    ######################################################################################################################\n",
        "    for i in tqdm(range(10)):\n",
        "        second=time()\n",
        "        a,b,clf=run_random_search(RandomForestClassifier(),param_grid,X,y)\n",
        "        f1=[]\n",
        "        for ii in range(5):\n",
        "            clf.fit(X_train, y_train)\n",
        "            predict =clf.predict(X_test)\n",
        "            f1.append(sklearn.metrics.f1_score(y_test, predict,average= \"macro\") )\n",
        "        f1_result=sum(f1)/len(f1)\n",
        "        f1=np.array(f1)\n",
        "        stndtd=f1.std()\n",
        "        temp=list(a.values())\n",
        "        #print('%-90s %-20s %-8s %-8s' % (a,f1_result,round(time()-second,3),i))\n",
        "        temp=temp+[f1_result,stndtd,round(time()-second,3),i,j]\n",
        "        lines.append(temp)\n",
        "\n",
        "        #if f1>0.76:\n",
        "results = pd.DataFrame (lines[1:], columns = lines[0])\n",
        "results.to_csv(\"RF_HPO.csv\",index=False)\n",
        "\n",
        "final_parametres=[['bootst', 'criter', 'max_depth', 'max_features',\"min_samp_split\",\"n_estimators\", \"F1\",\"Std\",\"Time\",\"No\",\"Attack\"]]\n",
        "\n",
        "for i in results[\"Attack\"].unique():\n",
        "    df=results[results[\"Attack\"]==i]\n",
        "    m=df[\"F1\"].max()\n",
        "    df=df[df[\"F1\"]==m]\n",
        "    m=df[\"max_depth\"].min()\n",
        "    df=df[df[\"max_depth\"]==m]\n",
        "    final_parametres.append(list(df.values)[0])\n",
        "results = pd.DataFrame (final_parametres[1:], columns=  final_parametres[0])\n",
        "print (tabulate(results, headers=list(results.columns)))\n",
        "\n",
        "\n",
        ""
      ]
    },
    {
      "cell_type": "markdown",
      "metadata": {
        "id": "j1kPUSs5Ysae"
      },
      "source": [
        "# GaussianNB"
      ]
    },
    {
      "cell_type": "code",
      "execution_count": null,
      "metadata": {
        "id": "s62B-CxNYsae"
      },
      "outputs": [],
      "source": [
        "from sklearn.naive_bayes import GaussianNB"
      ]
    },
    {
      "cell_type": "code",
      "execution_count": null,
      "metadata": {
        "id": "vyPeOVBPYsae",
        "outputId": "2f85adbb-73da-4a4a-a128-390cb60d01a4"
      },
      "outputs": [
        {
          "name": "stdout",
          "output_type": "stream",
          "text": [
            "SYN\n",
            "default                             0.9933067878021322   0.044    0       \n"
          ]
        },
        {
          "name": "stderr",
          "output_type": "stream",
          "text": [
            "100%|██████████████████████████████████████████████████████████████████████████████████████████████████████████████████████| 10/10 [00:08<00:00,  1.12it/s]\n"
          ]
        },
        {
          "name": "stdout",
          "output_type": "stream",
          "text": [
            "HTTP\n",
            "default                             0.6315732269934049   0.047    0       \n"
          ]
        },
        {
          "name": "stderr",
          "output_type": "stream",
          "text": [
            "100%|██████████████████████████████████████████████████████████████████████████████████████████████████████████████████████| 10/10 [00:06<00:00,  1.52it/s]\n"
          ]
        },
        {
          "name": "stdout",
          "output_type": "stream",
          "text": [
            "ACK\n",
            "default                             0.9105941815426182   0.015    0       \n"
          ]
        },
        {
          "name": "stderr",
          "output_type": "stream",
          "text": [
            "100%|██████████████████████████████████████████████████████████████████████████████████████████████████████████████████████| 10/10 [00:03<00:00,  3.32it/s]\n"
          ]
        },
        {
          "name": "stdout",
          "output_type": "stream",
          "text": [
            "UDP\n",
            "default                             0.6722846029846343   0.049    0       \n"
          ]
        },
        {
          "name": "stderr",
          "output_type": "stream",
          "text": [
            "100%|██████████████████████████████████████████████████████████████████████████████████████████████████████████████████████| 10/10 [00:06<00:00,  1.44it/s]\n"
          ]
        },
        {
          "name": "stdout",
          "output_type": "stream",
          "text": [
            "ARP\n",
            "default                             0.4514887351176544   0.094    0       \n"
          ]
        },
        {
          "name": "stderr",
          "output_type": "stream",
          "text": [
            "100%|██████████████████████████████████████████████████████████████████████████████████████████████████████████████████████| 10/10 [00:15<00:00,  1.53s/it]\n"
          ]
        },
        {
          "name": "stdout",
          "output_type": "stream",
          "text": [
            "SP\n",
            "default                             0.9766465329616252   0.005    0       \n"
          ]
        },
        {
          "name": "stderr",
          "output_type": "stream",
          "text": [
            "100%|██████████████████████████████████████████████████████████████████████████████████████████████████████████████████████| 10/10 [00:02<00:00,  5.00it/s]\n"
          ]
        },
        {
          "name": "stdout",
          "output_type": "stream",
          "text": [
            "BF\n",
            "default                             0.6242090786136683   0.018    0       \n"
          ]
        },
        {
          "name": "stderr",
          "output_type": "stream",
          "text": [
            "100%|██████████████████████████████████████████████████████████████████████████████████████████████████████████████████████| 10/10 [00:03<00:00,  2.59it/s]\n"
          ]
        },
        {
          "name": "stdout",
          "output_type": "stream",
          "text": [
            "OS\n",
            "default                             0.791791151796171    0.041    0       \n"
          ]
        },
        {
          "name": "stderr",
          "output_type": "stream",
          "text": [
            "100%|██████████████████████████████████████████████████████████████████████████████████████████████████████████████████████| 10/10 [00:07<00:00,  1.39it/s]\n"
          ]
        },
        {
          "name": "stdout",
          "output_type": "stream",
          "text": [
            "SCHD\n",
            "default                             0.866209454746268    0.031    0       \n"
          ]
        },
        {
          "name": "stderr",
          "output_type": "stream",
          "text": [
            "100%|██████████████████████████████████████████████████████████████████████████████████████████████████████████████████████| 10/10 [00:05<00:00,  1.81it/s]\n"
          ]
        },
        {
          "name": "stdout",
          "output_type": "stream",
          "text": [
            "MHDis\n",
            "default                             0.7956485114074345   0.014    0       \n"
          ]
        },
        {
          "name": "stderr",
          "output_type": "stream",
          "text": [
            "100%|██████████████████████████████████████████████████████████████████████████████████████████████████████████████████████| 10/10 [00:03<00:00,  2.88it/s]"
          ]
        },
        {
          "name": "stdout",
          "output_type": "stream",
          "text": [
            "      var_smoothing        F1          Std    Time    No  Attack\n",
            "--  ---------------  --------  -----------  ------  ----  --------\n",
            " 0      4.32876e-09  0.992101  0             0.824     0  SYN\n",
            " 1      8.11131e-09  0.991096  0             0.772     1  SYN\n",
            " 2      6.57933e-09  0.991498  0             0.916     2  SYN\n",
            " 3      3.51119e-09  0.992402  0             0.76      3  SYN\n",
            " 4      3.51119e-09  0.992402  0             0.883     4  SYN\n",
            " 5      5.3367e-09   0.991749  1.11022e-16   0.92      5  SYN\n",
            " 6      2.31013e-09  0.992854  0             0.94      6  SYN\n",
            " 7      2.84804e-07  0.975805  0             0.991     7  SYN\n",
            " 8      1e-08        0.990694  0             0.944     8  SYN\n",
            " 9      1.23285e-09  0.993206  1.11022e-16   0.959     9  SYN\n",
            "10      1.87382e-09  0.631096  0             0.659     0  HTTP\n",
            "11      1e-08        0.628884  0             0.752     1  HTTP\n",
            "12      1.87382e-09  0.631096  0             0.689     2  HTTP\n",
            "13      2.84804e-09  0.630567  0             0.619     3  HTTP\n",
            "14      1.23285e-08  0.628675  0             0.646     4  HTTP\n",
            "15      1e-09        0.631573  0             0.652     5  HTTP\n",
            "16      1.87382e-09  0.631096  0             0.591     6  HTTP\n",
            "17      3.51119e-09  0.630303  0             0.706     7  HTTP\n",
            "18      1e-07        0.619598  0             0.642     8  HTTP\n",
            "19      1e-09        0.631573  0             0.631     9  HTTP\n",
            "20      2.84804e-07  1         0             0.302     0  ACK\n",
            "21      3.51119e-06  1         0             0.286     1  ACK\n",
            "22      1.51991e-07  1         0             0.284     2  ACK\n",
            "23      4.32876e-05  0.999616  0             0.279     3  ACK\n",
            "24      5.3367e-07   1         0             0.302     4  ACK\n",
            "25      2.84804e-07  1         0             0.304     5  ACK\n",
            "26      1.87382e-07  1         0             0.312     6  ACK\n",
            "27      1.51991e-05  1         0             0.324     7  ACK\n",
            "28      4.32876e-06  1         0             0.308     8  ACK\n",
            "29      1.23285e-06  1         0             0.291     9  ACK\n",
            "30      2.84804e-09  0.671851  0             0.807     0  UDP\n",
            "31      1.87382e-09  0.672068  0             0.812     1  UDP\n",
            "32      2.31013e-07  0.662324  0             0.777     2  UDP\n",
            "33      2.31013e-09  0.67196   0             0.66      3  UDP\n",
            "34      1.87382e-09  0.672068  0             0.649     4  UDP\n",
            "35      2.31013e-09  0.67196   0             0.625     5  UDP\n",
            "36      1.23285e-09  0.67223   0             0.631     6  UDP\n",
            "37      5.3367e-08   0.668975  0             0.613     7  UDP\n",
            "38      1.51991e-08  0.670441  0             0.682     8  UDP\n",
            "39      2.31013e-07  0.662324  0             0.654     9  UDP\n",
            "40      0.00351119   0.485773  5.55112e-17   1.642     0  ARP\n",
            "41      4.32876e-07  0.488715  0             1.712     1  ARP\n",
            "42      1.51991e-08  0.497795  0             1.589     2  ARP\n",
            "43      0.00231013   0.484341  0             1.322     3  ARP\n",
            "44      3.51119e-08  0.490205  0             1.634     4  ARP\n",
            "45      1.51991e-08  0.497795  0             1.732     5  ARP\n",
            "46      3.51119e-08  0.490205  0             1.716     6  ARP\n",
            "47      1e-08        0.494591  0             1.441     7  ARP\n",
            "48      0.00432876   0.486812  5.55112e-17   1.275     8  ARP\n",
            "49      1.23285e-08  0.499829  0             1.23      9  ARP\n",
            "50      1.51991e-08  0.950036  0             0.205     0  SP\n",
            "51      2.84804e-09  0.972051  0             0.192     1  SP\n",
            "52      1e-09        0.976647  1.11022e-16   0.207     2  SP\n",
            "53      6.57933e-09  0.959651  0             0.206     3  SP\n",
            "54      6.57933e-07  0.912999  1.11022e-16   0.188     4  SP\n",
            "55      1e-09        0.976647  1.11022e-16   0.209     5  SP\n",
            "56      1.51991e-08  0.950036  0             0.193     6  SP\n",
            "57      1.51991e-09  0.975806  1.11022e-16   0.189     7  SP\n",
            "58      1e-09        0.976647  1.11022e-16   0.21      8  SP\n",
            "59      1e-09        0.976647  1.11022e-16   0.191     9  SP\n",
            "60      0.0657933    0.675154  0             0.383     0  BF\n",
            "61      0.0053367    0.684046  0             0.36      1  BF\n",
            "62      0.053367     0.716004  0             0.409     2  BF\n",
            "63      0.0284804    0.702414  0             0.39      3  BF\n",
            "64      0.0432876    0.709288  0             0.384     4  BF\n",
            "65      0.00187382   0.677732  0             0.358     5  BF\n",
            "66      0.0432876    0.709288  0             0.384     6  BF\n",
            "67      0.0284804    0.702414  0             0.387     7  BF\n",
            "68      0.0432876    0.709288  0             0.386     8  BF\n",
            "69      0.187382     0.692624  0             0.387     9  BF\n",
            "70      1.23285e-09  0.790488  0             0.633     0  OS\n",
            "71      5.3367e-09   0.786261  0             0.647     1  OS\n",
            "72      1e-09        0.791791  0             0.67      2  OS\n",
            "73      1.23285e-09  0.790488  0             0.646     3  OS\n",
            "74      1.87382e-09  0.789378  0             0.681     4  OS\n",
            "75      1e-08        0.784449  0             0.67      5  OS\n",
            "76      1e-09        0.791791  0             0.674     6  OS\n",
            "77      1e-05        0.710176  0             0.783     7  OS\n",
            "78      4.32876e-09  0.786808  0             0.868     8  OS\n",
            "79      1e-09        0.791791  0             0.943     9  OS\n",
            "80      1.23285e-09  0.848746  0             0.523     0  SCHD\n",
            "81      1.23285e-09  0.848746  0             0.496     1  SCHD\n",
            "82      0.00432876   0.935426  0             0.522     2  SCHD\n",
            "83      8.11131e-08  0.729398  0             0.525     3  SCHD\n",
            "84      5.3367e-09   0.753034  0             0.591     4  SCHD\n",
            "85      6.57933e-09  0.741105  0             0.536     5  SCHD\n",
            "86      1.51991e-09  0.834737  0             0.513     6  SCHD\n",
            "87      0.00432876   0.935426  0             0.642     7  SCHD\n",
            "88      4.32876e-09  0.767108  0             0.569     8  SCHD\n",
            "89      1.87382e-09  0.824156  1.11022e-16   0.57      9  SCHD\n",
            "90      1e-09        0.795649  0             0.347     0  MHDis\n",
            "91      1e-09        0.795649  0             0.352     1  MHDis\n",
            "92      6.57933e-09  0.727761  0             0.336     2  MHDis\n",
            "93      2.84804e-09  0.75749   0             0.326     3  MHDis\n",
            "94      1e-07        0.648142  0             0.312     4  MHDis\n",
            "95      1.51991e-09  0.775654  0             0.292     5  MHDis\n",
            "96      1.87382e-07  0.634353  0             0.366     6  MHDis\n",
            "97      1e-09        0.795649  0             0.371     7  MHDis\n",
            "98      2.84804e-09  0.75749   0             0.385     8  MHDis\n",
            "99      1.87382e-07  0.634353  0             0.375     9  MHDis\n"
          ]
        },
        {
          "name": "stderr",
          "output_type": "stream",
          "text": [
            "\n"
          ]
        }
      ],
      "source": [
        "lines=[['var_smoothing', \"F1\",\"Std\",\"Time\",\"No\",\"Attack\"]]\n",
        "for j in file_list:\n",
        "    print(j)\n",
        "\n",
        "    df=pd.read_csv(file_list[j][0],usecols=feature_list[j])\n",
        "    X_train = df.iloc[:,0:-1]\n",
        "    df['Label'] = df['Label'].astype('category')\n",
        "    y_train=df['Label'].cat.codes\n",
        "\n",
        "\n",
        "    df=pd.read_csv(file_list[j][1],usecols=feature_list[j])\n",
        "    X_test = df.iloc[:,0:-1]\n",
        "    df['Label'] = df['Label'].astype('category')\n",
        "    y_test=df['Label'].cat.codes\n",
        "\n",
        "    X= np.concatenate([X_train, X_test])\n",
        "    test_fold = [-1 for _ in range(X_train.shape[0])] + [0 for _ in range(X_test.shape[0])]\n",
        "    y = np.concatenate([y_train, y_test])\n",
        "    #  Lớp PredefinedSplit sẽ giúp bạn sử dụng sự phân chia này trong các kỹ thuật như cross-validation mà không cần phải làm lại phân chia dữ liệu.\n",
        "    ps = PredefinedSplit(test_fold)\n",
        "\n",
        "    second=time()\n",
        "\n",
        "    param_grid = {\n",
        "        'var_smoothing': np.logspace(0,-9, num=100),\n",
        "    }\n",
        "\n",
        "\n",
        "    second=time()\n",
        "    f1=[]\n",
        "    clf=GaussianNB()\n",
        "    for ii in range(1):\n",
        "        clf.fit(X_train, y_train)\n",
        "        predict =clf.predict(X_test)\n",
        "        f1.append(sklearn.metrics.f1_score(y_test, predict,average= \"macro\") )\n",
        "    f1=sum(f1)/len(f1)\n",
        "    #if f1>0.76:\n",
        "    print('%-35s %-20s %-8s %-8s' % (\"default\",f1,round(time()-second,3),ii))\n",
        "    ######################################################################################################################\n",
        "    for i in tqdm(range(10)):\n",
        "        second=time()\n",
        "        a,b,clf=run_random_search(GaussianNB(),param_grid,X,y)\n",
        "        f1=[]\n",
        "        for ii in range(5):\n",
        "            clf.fit(X_train, y_train)\n",
        "            predict =clf.predict(X_test)\n",
        "            f1.append(sklearn.metrics.f1_score(y_test, predict,average= \"macro\") )\n",
        "        f1_result=sum(f1)/len(f1)\n",
        "        f1=np.array(f1)\n",
        "        stndtd=f1.std()\n",
        "        temp=list(a.values())\n",
        "        #print('%-90s %-20s %-8s %-8s' % (a,f1_result,round(time()-second,3),i))\n",
        "        temp=temp+[f1_result,stndtd,round(time()-second,3),i,j]\n",
        "        lines.append(temp)\n",
        "\n",
        "\n",
        "results = pd.DataFrame (lines[1:], columns = lines[0])\n",
        "results.to_csv(\"NB_HPO.csv\",index=False)\n",
        "print (tabulate(results, headers=list(results.columns)))\n",
        "\n"
      ]
    },
    {
      "cell_type": "code",
      "execution_count": null,
      "metadata": {
        "id": "lAgq9fWQYsaf"
      },
      "outputs": [],
      "source": []
    },
    {
      "cell_type": "code",
      "execution_count": null,
      "metadata": {
        "id": "6T2K7ADsYsaf",
        "outputId": "c08685db-73b7-41cd-d6c2-f4a35606ebf8"
      },
      "outputs": [
        {
          "name": "stdout",
          "output_type": "stream",
          "text": [
            "      var_smoothing        F1          Std    Time    No  Attack\n",
            "--  ---------------  --------  -----------  ------  ----  --------\n",
            " 0      1.23285e-09  0.993206  1.11022e-16   0.959     9  SYN\n",
            " 1      1e-09        0.631573  0             0.652     5  HTTP\n",
            " 2      2.84804e-07  1         0             0.302     0  ACK\n",
            " 3      1.23285e-09  0.67223   0             0.631     6  UDP\n",
            " 4      1.23285e-08  0.499829  0             1.23      9  ARP\n",
            " 5      1e-09        0.976647  1.11022e-16   0.207     2  SP\n",
            " 6      0.053367     0.716004  0             0.409     2  BF\n",
            " 7      1e-09        0.791791  0             0.67      2  OS\n",
            " 8      0.00432876   0.935426  0             0.522     2  SCHD\n",
            " 9      1e-09        0.795649  0             0.347     0  MHDis\n"
          ]
        }
      ],
      "source": [
        "\n",
        "final_parametres=[[\"var_smoothing\",\"F1\",\"Std\",\"Time\",\"No\",\"Attack\"]]\n",
        "for i in results[\"Attack\"].unique():\n",
        "    df=results[results[\"Attack\"]==i]\n",
        "    m=df[\"F1\"].max()\n",
        "    df=df[df[\"F1\"]==m]\n",
        "    final_parametres.append(list(df.values)[0])\n",
        "results = pd.DataFrame (final_parametres[1:], columns=  final_parametres[0])\n",
        "print (tabulate(results, headers=list(results.columns)))\n",
        ""
      ]
    },
    {
      "cell_type": "markdown",
      "metadata": {
        "id": "2z0Hus-YYsaf"
      },
      "source": [
        "-------------"
      ]
    },
    {
      "cell_type": "markdown",
      "metadata": {
        "id": "XGYLDXpyYsaf"
      },
      "source": [
        "# RandomizedSearchCV  SVM"
      ]
    },
    {
      "cell_type": "code",
      "execution_count": null,
      "metadata": {
        "id": "SWWJq1yfYsaf",
        "outputId": "4a1da44f-ba16-4dc2-dc1b-96523d049cae"
      },
      "outputs": [
        {
          "name": "stdout",
          "output_type": "stream",
          "text": [
            "SYN\n",
            "default                             0.9258933118713963   14.975   0       \n"
          ]
        },
        {
          "name": "stderr",
          "output_type": "stream",
          "text": [
            "100%|████████████████████████████████████████████| 1/1 [08:57<00:00, 537.67s/it]"
          ]
        },
        {
          "name": "stdout",
          "output_type": "stream",
          "text": [
            "{'gamma': 1, 'C': 10}                                                                      0.9998489480892209   537.668  0       \n",
            "HTTP\n"
          ]
        },
        {
          "name": "stderr",
          "output_type": "stream",
          "text": [
            "\n"
          ]
        },
        {
          "name": "stdout",
          "output_type": "stream",
          "text": [
            "default                             0.4897829026250669   3.253    0       \n"
          ]
        },
        {
          "name": "stderr",
          "output_type": "stream",
          "text": [
            "100%|████████████████████████████████████████████| 1/1 [10:42<00:00, 642.06s/it]"
          ]
        },
        {
          "name": "stdout",
          "output_type": "stream",
          "text": [
            "{'gamma': 1, 'C': 1}                                                                       1.0                  642.06   0       \n",
            "ACK\n"
          ]
        },
        {
          "name": "stderr",
          "output_type": "stream",
          "text": [
            "\n"
          ]
        },
        {
          "name": "stdout",
          "output_type": "stream",
          "text": [
            "default                             0.9957476254353852   0.247    0       \n"
          ]
        },
        {
          "name": "stderr",
          "output_type": "stream",
          "text": [
            "100%|████████████████████████████████████████████| 1/1 [03:27<00:00, 207.41s/it]"
          ]
        },
        {
          "name": "stdout",
          "output_type": "stream",
          "text": [
            "{'gamma': 1, 'C': 10}                                                                      1.0                  207.411  0       \n",
            "UDP\n"
          ]
        },
        {
          "name": "stderr",
          "output_type": "stream",
          "text": [
            "\n"
          ]
        },
        {
          "name": "stdout",
          "output_type": "stream",
          "text": [
            "default                             0.37810945273631835  33.608   0       \n"
          ]
        },
        {
          "name": "stderr",
          "output_type": "stream",
          "text": [
            "100%|█████████████████████████████████████████████| 1/1 [00:59<00:00, 59.59s/it]"
          ]
        },
        {
          "name": "stdout",
          "output_type": "stream",
          "text": [
            "{'gamma': 0.1, 'C': 10}                                                                    1.0                  59.592   0       \n",
            "ARP\n"
          ]
        },
        {
          "name": "stderr",
          "output_type": "stream",
          "text": [
            "\n"
          ]
        },
        {
          "name": "stdout",
          "output_type": "stream",
          "text": [
            "default                             0.4286040797668705   38.138   0       \n"
          ]
        },
        {
          "name": "stderr",
          "output_type": "stream",
          "text": [
            "100%|███████████████████████████████████████████| 1/1 [25:29<00:00, 1529.95s/it]"
          ]
        },
        {
          "name": "stdout",
          "output_type": "stream",
          "text": [
            "{'gamma': 0.01, 'C': 1}                                                                    1.0                  1529.95  0       \n",
            "SP\n"
          ]
        },
        {
          "name": "stderr",
          "output_type": "stream",
          "text": [
            "\n"
          ]
        },
        {
          "name": "stdout",
          "output_type": "stream",
          "text": [
            "default                             0.9067126722391889   1.384    0       \n"
          ]
        },
        {
          "name": "stderr",
          "output_type": "stream",
          "text": [
            "100%|████████████████████████████████████████████| 1/1 [01:58<00:00, 118.96s/it]"
          ]
        },
        {
          "name": "stdout",
          "output_type": "stream",
          "text": [
            "{'gamma': 1, 'C': 1}                                                                       1.0                  118.961  0       \n",
            "BF\n"
          ]
        },
        {
          "name": "stderr",
          "output_type": "stream",
          "text": [
            "\n"
          ]
        },
        {
          "name": "stdout",
          "output_type": "stream",
          "text": [
            "default                             0.7108853067229578   1.155    0       \n"
          ]
        },
        {
          "name": "stderr",
          "output_type": "stream",
          "text": [
            "100%|████████████████████████████████████████████| 1/1 [01:41<00:00, 101.16s/it]"
          ]
        },
        {
          "name": "stdout",
          "output_type": "stream",
          "text": [
            "{'gamma': 0.01, 'C': 10}                                                                   1.0                  101.159  0       \n",
            "OS\n"
          ]
        },
        {
          "name": "stderr",
          "output_type": "stream",
          "text": [
            "\n"
          ]
        },
        {
          "name": "stdout",
          "output_type": "stream",
          "text": [
            "default                             0.485319097306479    1.633    0       \n"
          ]
        },
        {
          "name": "stderr",
          "output_type": "stream",
          "text": [
            "100%|████████████████████████████████████████████| 1/1 [05:03<00:00, 303.61s/it]"
          ]
        },
        {
          "name": "stdout",
          "output_type": "stream",
          "text": [
            "{'gamma': 0.01, 'C': 10}                                                                   1.0                  303.606  0       \n",
            "SCHD\n"
          ]
        },
        {
          "name": "stderr",
          "output_type": "stream",
          "text": [
            "\n"
          ]
        },
        {
          "name": "stdout",
          "output_type": "stream",
          "text": [
            "default                             0.48809058961343227  1.043    0       \n"
          ]
        },
        {
          "name": "stderr",
          "output_type": "stream",
          "text": [
            "100%|█████████████████████████████████████████████| 1/1 [01:32<00:00, 92.68s/it]"
          ]
        },
        {
          "name": "stdout",
          "output_type": "stream",
          "text": [
            "{'gamma': 1, 'C': 10}                                                                      1.0                  92.677   0       \n",
            "MHDis\n"
          ]
        },
        {
          "name": "stderr",
          "output_type": "stream",
          "text": [
            "\n"
          ]
        },
        {
          "name": "stdout",
          "output_type": "stream",
          "text": [
            "default                             0.49480455220188024  0.422    0       \n"
          ]
        },
        {
          "name": "stderr",
          "output_type": "stream",
          "text": [
            "100%|████████████████████████████████████████████| 1/1 [02:28<00:00, 148.37s/it]"
          ]
        },
        {
          "name": "stdout",
          "output_type": "stream",
          "text": [
            "{'gamma': 0.1, 'C': 1}                                                                     1.0                  148.366  0       \n",
            "      gamma    C        F1    Std      Time    No  Attack\n",
            "--  -------  ---  --------  -----  --------  ----  --------\n",
            " 0     1      10  0.999849      0   537.668     0  SYN\n",
            " 1     1       1  1             0   642.06      0  HTTP\n",
            " 2     1      10  1             0   207.411     0  ACK\n",
            " 3     0.1    10  1             0    59.592     0  UDP\n",
            " 4     0.01    1  1             0  1529.95      0  ARP\n",
            " 5     1       1  1             0   118.961     0  SP\n",
            " 6     0.01   10  1             0   101.159     0  BF\n",
            " 7     0.01   10  1             0   303.606     0  OS\n",
            " 8     1      10  1             0    92.677     0  SCHD\n",
            " 9     0.1     1  1             0   148.366     0  MHDis\n"
          ]
        },
        {
          "name": "stderr",
          "output_type": "stream",
          "text": [
            "\n"
          ]
        }
      ],
      "source": [
        "# C là tham số điều chỉnh mức độ phạt đối với các lỗi phân loại trong SVM.\n",
        "# gamma là tham số điều chỉnh phạm vi ảnh hưởng của mỗi điểm dữ liệu trong SVM\n",
        "# gamma nhỏ sẽ khiến cho sự ảnh hưởng của mỗi điểm dữ liệu rất rộng, trong khi một giá trị gamma lớn sẽ khiến mỗi điểm dữ liệu chỉ ảnh hưởng đến một khu vực nhỏ.\n",
        "\n",
        "lines=[[ 'gamma','C', \"F1\",\"Std\",\"Time\",\"No\",\"Attack\"]]\n",
        "for j in file_list:\n",
        "    print(j)\n",
        "\n",
        "    df=pd.read_csv(file_list[j][0],usecols=feature_list[j])\n",
        "    X_train = df.iloc[:,0:-1]\n",
        "    df['Label'] = df['Label'].astype('category')\n",
        "    y_train=df['Label'].cat.codes\n",
        "\n",
        "\n",
        "    df=pd.read_csv(file_list[j][1],usecols=feature_list[j])\n",
        "    X_test = df.iloc[:,0:-1]\n",
        "    df['Label'] = df['Label'].astype('category')\n",
        "    y_test=df['Label'].cat.codes\n",
        "\n",
        "    X= np.concatenate([X_train, X_test])\n",
        "    test_fold = [-1 for _ in range(X_train.shape[0])] + [0 for _ in range(X_test.shape[0])]\n",
        "    y = np.concatenate([y_train, y_test])\n",
        "    #  chia dữ liệu như cross-validation mà không cần phải làm lại phân chia dữ liệu.\n",
        "    ps = PredefinedSplit(test_fold)\n",
        "\n",
        "    param_grid =  {'C': [0.001, 0.01, 0.1, 1, 10], 'gamma' : [0.001, 0.01, 0.1, 1]}\n",
        "\n",
        "    second=time()\n",
        "    f1=[]\n",
        "    clf=svm.SVC()\n",
        "    for ii in range(1):\n",
        "        clf.fit(X_train, y_train)\n",
        "        predict =clf.predict(X_test)\n",
        "        f1.append(sklearn.metrics.f1_score(y_test, predict,average= \"macro\") )\n",
        "    f1=sum(f1)/len(f1)\n",
        "    #if f1>0.76:\n",
        "    print('%-35s %-20s %-8s %-8s' % (\"default\",f1,round(time()-second,3),ii))\n",
        "\n",
        "\n",
        "\n",
        "    ######################################################################################################################\n",
        "    for i in tqdm(range(1)):\n",
        "        second=time()\n",
        "        a,b,clf=run_random_search(svm.SVC(),param_grid,X,y)\n",
        "        f1=[]\n",
        "        for ii in range(1):\n",
        "            clf.fit(X_train, y_train)\n",
        "            predict =clf.predict(X_test)\n",
        "            f1.append(sklearn.metrics.f1_score(y_test, predict,average= \"macro\") )\n",
        "        f1_result=sum(f1)/len(f1)\n",
        "        f1=np.array(f1)\n",
        "        stndtd=f1.std()\n",
        "        temp=list(a.values())\n",
        "        print('%-90s %-20s %-8s %-8s' % (a,f1_result,round(time()-second,3),i))\n",
        "        temp=temp+[f1_result,stndtd,round(time()-second,3),i,j]\n",
        "        lines.append(temp)\n",
        "\n",
        "        #if f1>0.76:\n",
        "\n",
        "results = pd.DataFrame (lines[1:], columns = lines[0])\n",
        "results.to_csv(\"svm_HPO.csv\",index=False)\n",
        "\n",
        "\n",
        "print (tabulate(results, headers=list(results.columns)))\n",
        "\n",
        ""
      ]
    },
    {
      "cell_type": "code",
      "execution_count": null,
      "metadata": {
        "id": "FsR9JGl_Ysaf"
      },
      "outputs": [],
      "source": []
    }
  ],
  "metadata": {
    "kernelspec": {
      "display_name": "base",
      "language": "python",
      "name": "python3"
    },
    "language_info": {
      "codemirror_mode": {
        "name": "ipython",
        "version": 3
      },
      "file_extension": ".py",
      "mimetype": "text/x-python",
      "name": "python",
      "nbconvert_exporter": "python",
      "pygments_lexer": "ipython3",
      "version": "3.12.3"
    },
    "colab": {
      "provenance": []
    }
  },
  "nbformat": 4,
  "nbformat_minor": 0
}