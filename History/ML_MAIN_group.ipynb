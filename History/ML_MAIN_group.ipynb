{
  "cells": [
    {
      "cell_type": "code",
      "execution_count": 1,
      "metadata": {
        "id": "ET4KYUb-pciE"
      },
      "outputs": [],
      "source": [
        "import warnings\n",
        "warnings.filterwarnings(\"ignore\")"
      ]
    },
    {
      "cell_type": "code",
      "execution_count": 2,
      "metadata": {
        "id": "akvTy6dTpciG"
      },
      "outputs": [],
      "source": [
        "\n",
        "import os\n",
        "import time\n",
        "import sklearn\n",
        "from random import random\n",
        "import numpy as np\n",
        "import pandas as pd\n",
        "from tqdm import tqdm\n",
        "from tabulate import tabulate\n",
        "import pickle\n",
        "import pandas as pd\n",
        "import seaborn as sns\n",
        "import matplotlib.pyplot as plt\n",
        "%matplotlib inline\n",
        "\n",
        "from sklearn.tree import DecisionTreeClassifier\n",
        "\n",
        "evaluate={'Acc':\"Accuracy\", 'b_Acc':\"Balanced Accuracy\", 'F1':\"F1 Score\", 'kap':\"Kappa\", 'ROC':\"Roc\"}"
      ]
    },
    {
      "cell_type": "code",
      "execution_count": 3,
      "metadata": {
        "id": "Naqlwc9MpciG"
      },
      "outputs": [],
      "source": [
        "from sklearn.ensemble import RandomForestClassifier\n",
        "from sklearn.svm import SVC\n",
        "from sklearn.naive_bayes import GaussianNB"
      ]
    },
    {
      "cell_type": "code",
      "execution_count": 4,
      "metadata": {
        "id": "USs5rtnRpciG"
      },
      "outputs": [],
      "source": [
        "def GA(train,test,cols,gen_number=25,outputcsv=\"GA_output.csv\"):\n",
        "    #defining various steps required for the genetic algorithm\n",
        "    # GA adapted from https://datascienceplus.com/genetic-algorithm-in-machine-learning-using-python/\n",
        "    def initilization_of_population(size,n_feat):\n",
        "        population = []\n",
        "        for i in range(size):\n",
        "            chromosome = np.ones(n_feat,dtype=np.bool)\n",
        "            chromosome[:int(0.3*n_feat)]=False\n",
        "            np.random.shuffle(chromosome)\n",
        "            population.append(chromosome)\n",
        "        return population\n",
        "\n",
        "    def fitness_score(population):\n",
        "        scores = []\n",
        "        for chromosome in population:\n",
        "            logmodel.fit(X_train.iloc[:,chromosome],y_train)\n",
        "            predictions = logmodel.predict(X_test.iloc[:,chromosome])\n",
        "            scores.append(sklearn.metrics.f1_score(y_test,predictions,average= \"macro\"))\n",
        "        scores, population = np.array(scores), np.array(population)\n",
        "        inds = np.argsort(scores)\n",
        "        return list(scores[inds][::-1]), list(population[inds,:][::-1])\n",
        "\n",
        "    def selection(pop_after_fit,n_parents):\n",
        "        population_nextgen = []\n",
        "        for i in range(n_parents):\n",
        "            population_nextgen.append(pop_after_fit[i])\n",
        "        return population_nextgen\n",
        "\n",
        "    def crossover(pop_after_sel):\n",
        "        population_nextgen=pop_after_sel\n",
        "        for i in range(len(pop_after_sel)):\n",
        "            child=pop_after_sel[i]\n",
        "            child[3:7]=pop_after_sel[(i+1)%len(pop_after_sel)][3:7]\n",
        "            population_nextgen.append(child)\n",
        "        return population_nextgen\n",
        "\n",
        "    def mutation(pop_after_cross,mutation_rate):\n",
        "        population_nextgen = []\n",
        "        for i in range(0,len(pop_after_cross)):\n",
        "            chromosome = pop_after_cross[i]\n",
        "            for j in range(len(chromosome)):\n",
        "                if random.random() < mutation_rate:\n",
        "                    chromosome[j]= not chromosome[j]\n",
        "            population_nextgen.append(chromosome)\n",
        "        #print(population_nextgen)\n",
        "        return population_nextgen\n",
        "\n",
        "    def generations(size,n_feat,n_parents,mutation_rate,n_gen,X_train,\n",
        "                                       X_test, y_train, y_test):\n",
        "\n",
        "        best_chromo= []\n",
        "        best_score= []\n",
        "        population_nextgen=initilization_of_population(size,n_feat)\n",
        "        for i in range(n_gen):\n",
        "            second=time.time()\n",
        "            scores, pop_after_fit = fitness_score(population_nextgen)\n",
        "            #print(scores[:2])\n",
        "            zaman=time.time()-second\n",
        "\n",
        "            ths.write(f\"{np.mean(scores)},{np.mean(scores)},{zaman}\\n\")\n",
        "\n",
        "\n",
        "\n",
        "            pop_after_sel = selection(pop_after_fit,n_parents)\n",
        "            pop_after_cross = crossover(pop_after_sel)\n",
        "            population_nextgen = mutation(pop_after_cross,mutation_rate)\n",
        "            best_chromo.append(pop_after_fit[0])\n",
        "            best_score.append(scores[0])\n",
        "        return best_chromo,best_score\n",
        "\n",
        "\n",
        "\n",
        "\n",
        "\n",
        "    df = pd.read_csv(train,usecols=cols)#,header=None )\n",
        "    df=df.fillna(0)\n",
        "    #df = df.sample(n = 10000)\n",
        "    X_train =df[df.columns[0:-1]]\n",
        "    #X_train=np.array(X_train)\n",
        "    df[df.columns[-1]] = df[df.columns[-1]].astype('category')\n",
        "    y_train=df[df.columns[-1]].cat.codes\n",
        "    df = pd.read_csv(test,usecols=cols)#,header=None )\n",
        "    df=df.fillna(0)\n",
        "    #df = df.sample(n = 10000)\n",
        "    X_test =df[df.columns[0:-1]]\n",
        "    #X_test=np.array(X_test)\n",
        "    df[df.columns[-1]] = df[df.columns[-1]].astype('category')\n",
        "    y_test=df[df.columns[-1]].cat.codes\n",
        "\n",
        "\n",
        "    ths = open(f\"./{outputcsv}\", \"w\")\n",
        "    ths.write(\"MEAN,STD,TIME\\n\")\n",
        "    logmodel=DecisionTreeClassifier()\n",
        "    #print ('%-30s %-30s %-30s' % (\"MEAN\",\"STD\",\"TIME\"))\n",
        "    chromo,score=generations(size=200,n_feat=X_train.shape[1],n_parents=120,mutation_rate=0.005,\n",
        "                         n_gen=gen_number,X_train=X_train,X_test=X_test,y_train=y_train,y_test=y_test)\n",
        "    #logmodel.fit(X_train.iloc[:,chromo[-1]],y_train)\n",
        "    #predictions = logmodel.predict(X_test.iloc[:,chromo[-1]])\n",
        "    #print(\"F1 Score score after genetic algorithm is= \"+str(sklearn.metrics.f1_score(y_test,predictions,average= \"macro\")))\n",
        "    ths.close()\n",
        "    sonuç=[]\n",
        "    for k,j in enumerate(chromo):\n",
        "        temp=X_train.iloc[:,j]\n",
        "        temp=list(temp.columns)\n",
        "        temp.append(\"Label\")\n",
        "        sonuç.append(temp)\n",
        "\n",
        "    np.save(outputcsv.replace(\"csv\",\"npy\"), sonuç)\n",
        "    gf = pd.read_csv(outputcsv)\n",
        "    gf=gf[\"MEAN\"].values\n",
        "    gf=np.argmax(gf)\n",
        "    return sonuç[gf],gf"
      ]
    },
    {
      "cell_type": "code",
      "execution_count": 4,
      "metadata": {
        "id": "ZsydEm9cpciH"
      },
      "outputs": [],
      "source": []
    },
    {
      "cell_type": "code",
      "execution_count": 5,
      "metadata": {
        "id": "zeOtXofcpciH"
      },
      "outputs": [],
      "source": [
        "def folder(f_name): #this function creates a folder named \"attacks\" in the program directory.\n",
        "    try:\n",
        "        if not os.path.exists(f_name):\n",
        "            os.makedirs(f_name)\n",
        "    except OSError:\n",
        "        print (\"The folder could not be created!\")"
      ]
    },
    {
      "cell_type": "code",
      "execution_count": 6,
      "metadata": {
        "id": "QTn0CpzMpciH"
      },
      "outputs": [],
      "source": [
        "def find_the_way(path,file_format,con=\"\"):\n",
        "    files_add = []\n",
        "    # r=root, d=directories, f = files\n",
        "    for r, d, f in os.walk(path):\n",
        "        for file in f:\n",
        "            if file_format in file:\n",
        "                if con in file:\n",
        "                    files_add.append(os.path.join(r, file))\n",
        "    return files_add"
      ]
    },
    {
      "cell_type": "code",
      "execution_count": 7,
      "metadata": {
        "id": "D-YOELvnpciH"
      },
      "outputs": [],
      "source": [
        "ml_list={\n",
        "\"RF\":{\"SYN\":RandomForestClassifier(bootstrap=False,criterion=\"gini\",max_depth=7,max_features=8,min_samples_split=2,n_estimators=98)},\n",
        "\"SVM\":{\"SYN\":SVC(gamma=1,C=10)},\n",
        "\"NB\":{\"SYN\":GaussianNB(var_smoothing=1.23285e-09)}\n",
        "}\n"
      ]
    },
    {
      "cell_type": "code",
      "execution_count": 7,
      "metadata": {
        "id": "777ryWmXpciH"
      },
      "outputs": [],
      "source": []
    },
    {
      "cell_type": "code",
      "execution_count": 8,
      "metadata": {
        "id": "miUpJc26pciH"
      },
      "outputs": [],
      "source": [
        "def target_name(name):\n",
        "    df = pd.read_csv(name,usecols=[\"Label\"])\n",
        "    target_names=sorted(list(df[\"Label\"].unique()))\n",
        "    return target_names"
      ]
    },
    {
      "cell_type": "code",
      "execution_count": 9,
      "metadata": {
        "id": "EeyAHzr7pciH"
      },
      "outputs": [],
      "source": [
        "folder(\"results\")\n",
        "folder(\"pdfs\")\n",
        "folder(\"results/fin\")\n",
        "folder(\"models\")\n"
      ]
    },
    {
      "cell_type": "markdown",
      "metadata": {
        "id": "iFWOyv8SpciH"
      },
      "source": [
        "## Calculation of evaluations"
      ]
    },
    {
      "cell_type": "code",
      "execution_count": 10,
      "metadata": {
        "id": "OuEgBXbTpciI"
      },
      "outputs": [],
      "source": [
        "def score(train_time,test_time,predict,y_test,class_based_results,repeat,cv,dname,ml,sw):\n",
        "    train_time=train_time[0]\n",
        "    test_time=test_time[0]\n",
        "    rc=sklearn.metrics.recall_score(y_test, predict,average= \"macro\")\n",
        "    pr=sklearn.metrics.precision_score(y_test, predict,average= \"macro\")\n",
        "    f_1=sklearn.metrics.f1_score(y_test, predict,average= \"macro\")\n",
        "    accuracy=sklearn.metrics.accuracy_score(y_test, predict)\n",
        "    accuracy_b=sklearn.metrics.balanced_accuracy_score( y_test,predict)\n",
        "    kappa=sklearn.metrics.cohen_kappa_score(y_test, predict,labels=None, weights=None, sample_weight=None)\n",
        "    try:\n",
        "        roc=sklearn.metrics.roc_auc_score(y_test, predict)\n",
        "    except:roc=0\n",
        "    report = sklearn.metrics.classification_report(y_test, predict, target_names=target_names,output_dict=True)\n",
        "    cr = pd.DataFrame(report).transpose()\n",
        "    line=[dname,sw,repeat,cv,ml,accuracy,accuracy_b,pr,rc,f_1,kappa,roc,train_time,test_time]\n",
        "\n",
        "    if class_based_results.empty:\n",
        "        class_based_results =cr\n",
        "    else:\n",
        "        class_based_results = class_based_results.add(cr, fill_value=0)\n",
        "    return class_based_results,line"
      ]
    },
    {
      "cell_type": "code",
      "execution_count": 11,
      "metadata": {
        "id": "anWIfExVpciI"
      },
      "outputs": [],
      "source": [
        "def ML_CV(loop1,loop2,output_csv1,cols,dname,sw):\n",
        "    fold=5\n",
        "    repetition=2\n",
        "    for ii in ml_list:\n",
        "        output_csv=output_csv1.replace(\"ML\",ii)\n",
        "        class_based_results=pd.DataFrame()#\"\" #pd.DataFrame(0, index=np.arange((len(target_names)+3)), columns=[\"f1-score\",\"precision\",\"recall\",\"support\"])\n",
        "        cm=pd.DataFrame()\n",
        "        cv=0\n",
        "        lines=[[\"Dataset\",\"SW\",\"T\",\"CV\",\"ML\",\"Acc\",\"b_Acc\",\"Prec\",\"Rec\",\"F1\",\"kap\",\"ROC\",\"tra-T\",\"test-T\"]]\n",
        "        max_f1=0\n",
        "        for i in range(repetition):\n",
        "\n",
        "            rnd = random()\n",
        "\n",
        "            kfold = sklearn.model_selection.KFold(n_splits=fold, shuffle=True, random_state=int(rnd*100))\n",
        "            cv=0\n",
        "            df = pd.read_csv(loop1,usecols=cols)#,header=None )\n",
        "            ##df = df.reset_index(drop=True)\n",
        "            df=df.fillna(0)\n",
        "\n",
        "            #del df[\"MAC\"] # if dataset has MAC colomn please uncomment this line\n",
        "            X =df[df.columns[0:-1]]\n",
        "            X=np.array(X)\n",
        "            df[df.columns[-1]] = df[df.columns[-1]].astype('category')\n",
        "            y=df[df.columns[-1]].cat.codes\n",
        "            X.shape\n",
        "            for train_index, test_index in kfold.split(X):\n",
        "                X_train, X_test = X[train_index], X[test_index]\n",
        "                y_train, y_test = y[train_index], y[test_index]\n",
        "                #dname=loop1  [6:-13]\n",
        "                results_y=[]\n",
        "                cv+=1\n",
        "                results_y.append(y_test)\n",
        "\n",
        "\n",
        "                precision=[]\n",
        "                recall=[]\n",
        "                f1=[]\n",
        "                accuracy=[]\n",
        "                train_time=[]\n",
        "                test_time=[]\n",
        "                total_time=[]\n",
        "                kappa=[]\n",
        "                accuracy_b=[]\n",
        "\n",
        "                    #machine learning algorithm is applied in this section\n",
        "                clf = ml_list[ii][dname]#choose algorithm from ml_list dictionary\n",
        "                second=time.time()\n",
        "                clf.fit(X_train, y_train)\n",
        "                train_time.append(float((time.time()-second)) )\n",
        "                second=time.time()\n",
        "                predict =clf.predict(X_test)\n",
        "                test_time.append(float((time.time()-second)) )\n",
        "\n",
        "                altime=0\n",
        "                class_based_results,line=score(train_time,test_time,predict,y_test,class_based_results,cv,i,dname,ii,sw)\n",
        "                lines.append(line)\n",
        "                df_cm = pd.DataFrame(sklearn.metrics.confusion_matrix(y_test, predict))\n",
        "                if cm.empty:\n",
        "                    cm =df_cm\n",
        "                else:\n",
        "                    cm = cm.add(df_cm, fill_value=0)\n",
        "\n",
        "                if line[9]>max_f1:\n",
        "                    max_f1=line[9]\n",
        "                    pickle.dump(clf, open(f'./models/{ii}_{dname}_{sw}_model.pkl', 'wb'))\n",
        "\n",
        "\n",
        "        class_based_results=class_based_results/(repetition*fold)\n",
        "        results = pd.DataFrame (lines[1:], columns = lines[0])\n",
        "        results.to_csv(output_csv.replace(\"ML\",ii),index=False)\n",
        "        results=results.round(3)\n",
        "        print (tabulate(results, headers=list(results.columns)))\n",
        "        print()\n",
        "\n",
        "        print (tabulate(class_based_results, headers=list(class_based_results.columns)))\n",
        "        class_based_results.to_csv(output_csv.replace(\".csv\",\"class_based_results.csv\"))\n",
        "        if True:\n",
        "            cm=cm//(repetition*fold)\n",
        "            graph_name=output_csv[:-4]+\"_confusion matrix.pdf\"\n",
        "            plt.figure(figsize = (5,3.5))\n",
        "            sns.heatmap(cm,xticklabels=target_names, yticklabels=target_names, annot=True, fmt='g')\n",
        "            plt.savefig(graph_name,bbox_inches='tight')#, dpi=400)\n",
        "            plt.show()\n",
        "            #print(cm)\n",
        "            print(\"\\n\\n\\n\")\n"
      ]
    },
    {
      "cell_type": "code",
      "execution_count": 12,
      "metadata": {
        "id": "v-LDvwCRpciJ"
      },
      "outputs": [],
      "source": [
        "def ML(loop1,loop2,output_csv1,cols,dname,sw):\n",
        "    fold=1\n",
        "    repetition=10\n",
        "    for ii in ml_list:\n",
        "        output_csv=output_csv1.replace(\"ML\",ii)\n",
        "        class_based_results=pd.DataFrame()#\"\" #pd.DataFrame(0, index=np.arange((len(target_names)+3)), columns=[\"f1-score\",\"precision\",\"recall\",\"support\"])\n",
        "        cm=pd.DataFrame()\n",
        "        cv=0\n",
        "        lines=[[\"Dataset\",\"SW\",\"T\",\"CV\",\"ML\",\"Acc\",\"b_Acc\",\"Prec\",\"Rec\",\"F1\",\"kap\",\"ROC\",\"tra-T\",\"test-T\"]]\n",
        "        max_f1=0\n",
        "        for i in range(repetition):\n",
        "\n",
        "            #rnd = random()\n",
        "\n",
        "            #kfold = sklearn.model_selection.KFold(n_splits=fold, shuffle=True, random_state=int(rnd*100))\n",
        "            cv=0\n",
        "            df = pd.read_csv(loop1,usecols=cols)#,header=None )\n",
        "            df=df.fillna(0)\n",
        "            X_train =df[df.columns[0:-1]]\n",
        "            X_train=np.array(X_train)\n",
        "            df[df.columns[-1]] = df[df.columns[-1]].astype('category')\n",
        "            y_train=df[df.columns[-1]].cat.codes\n",
        "\n",
        "\n",
        "            df = pd.read_csv(loop2,usecols=cols)#,header=None )\n",
        "            df=df.fillna(0)\n",
        "            X_test =df[df.columns[0:-1]]\n",
        "            X_test=np.array(X_test)\n",
        "            df[df.columns[-1]] = df[df.columns[-1]].astype('category')\n",
        "            y_test=df[df.columns[-1]].cat.codes\n",
        "\n",
        "            #dname=loop1  [6:-13]\n",
        "            results_y=[]\n",
        "            cv+=1\n",
        "            results_y.append(y_test)\n",
        "\n",
        "\n",
        "            precision=[]\n",
        "            recall=[]\n",
        "            f1=[]\n",
        "            accuracy=[]\n",
        "            train_time=[]\n",
        "            test_time=[]\n",
        "            total_time=[]\n",
        "            kappa=[]\n",
        "            accuracy_b=[]\n",
        "\n",
        "                #machine learning algorithm is applied in this section\n",
        "            clf = ml_list[ii][dname]#choose algorithm from ml_list dictionary\n",
        "            second=time.time()\n",
        "            clf.fit(X_train, y_train)\n",
        "            train_time.append(float((time.time()-second)) )\n",
        "            second=time.time()\n",
        "            predict =clf.predict(X_test)\n",
        "            test_time.append(float((time.time()-second)) )\n",
        "\n",
        "            altime=0\n",
        "            class_based_results,line=score(train_time,test_time,predict,y_test,class_based_results,cv,i,dname,ii,sw)\n",
        "            lines.append(line)\n",
        "            df_cm = pd.DataFrame(sklearn.metrics.confusion_matrix(y_test, predict))\n",
        "            if cm.empty:\n",
        "                cm =df_cm\n",
        "            else:\n",
        "                cm = cm.add(df_cm, fill_value=0)\n",
        "\n",
        "            if line[9]>max_f1:\n",
        "                max_f1=line[9]\n",
        "                pickle.dump(clf, open(f'./models/{ii}_{dname}_{sw}_model.pkl', 'wb'))\n",
        "\n",
        "\n",
        "        class_based_results=class_based_results/(repetition*fold)\n",
        "        results = pd.DataFrame (lines[1:], columns = lines[0])\n",
        "        results.to_csv(output_csv.replace(\"ML\",ii),index=False)\n",
        "        results=results.round(3)\n",
        "        print (tabulate(results, headers=list(results.columns)))\n",
        "        print()\n",
        "\n",
        "        print (tabulate(class_based_results, headers=list(class_based_results.columns)))\n",
        "        class_based_results.to_csv(output_csv.replace(\".csv\",\"class_based_results.csv\"))\n",
        "        if True:\n",
        "            cm=cm//(repetition*fold)\n",
        "            graph_name=output_csv[:-4]+\"_confusion matrix.pdf\"\n",
        "            plt.figure(figsize = (5,3.5))\n",
        "            sns.heatmap(cm,xticklabels=target_names, yticklabels=target_names, annot=True, fmt='g')\n",
        "            plt.savefig(graph_name,bbox_inches='tight')#, dpi=400)\n",
        "            plt.show()\n",
        "            #print(cm)\n",
        "            print(\"\\n\\n\\n\")\n"
      ]
    },
    {
      "cell_type": "markdown",
      "metadata": {
        "id": "z6PItxg9pciJ"
      },
      "source": [
        "# GA output"
      ]
    },
    {
      "cell_type": "code",
      "execution_count": 13,
      "metadata": {
        "id": "UTXphjj6pciJ"
      },
      "outputs": [],
      "source": [
        "import json\n",
        "with open('GA_output_ET.json', 'r') as fp:\n",
        "    feature_list = json.load(fp)"
      ]
    },
    {
      "cell_type": "markdown",
      "metadata": {
        "id": "Xp9BorXZpciJ"
      },
      "source": [
        "# CV"
      ]
    },
    {
      "cell_type": "code",
      "execution_count": null,
      "metadata": {
        "id": "PdUkW9BRpciJ"
      },
      "outputs": [],
      "source": [
        "file_list={\n",
        "'./INPUT/SW/DoS-SYN-1.csv':\"SYN\",\n",
        "}"
      ]
    },
    {
      "cell_type": "code",
      "execution_count": null,
      "metadata": {
        "scrolled": true,
        "id": "FqjNOkftpciJ",
        "outputId": "1635c0b5-3028-4754-c870-91639f3df596"
      },
      "outputs": [
        {
          "name": "stdout",
          "output_type": "stream",
          "text": [
            "./train-data/train_syn_arp_data.csv\n",
            "['DNS_arcount', 'DNS_nscount', 'DNS_qdcount', 'DNS_qr', 'DNS_ra', 'IP_DF', 'IP_MF', 'IP_flags', 'IP_proto', 'IP_tos', 'IP_ttl', 'Protocol', 'TCP_ACK', 'TCP_ACK_R', 'TCP_ACK_SR', 'TCP_ACK_sum', 'TCP_CWR', 'TCP_CWR_SR', 'TCP_CWR_ratio', 'TCP_ECE', 'TCP_ECE_SR', 'TCP_PSH_SR', 'TCP_PSH_ratio', 'TCP_RST_SR', 'TCP_RST_ratio', 'TCP_RST_sum', 'TCP_SYN', 'TCP_SYN_R', 'TCP_SYN_ratio', 'TCP_SYN_sum', 'TCP_URG_SR', 'TCP_window_mean_2', 'TCP_window_mean_9', 'TCP_window_mean_WE', 'TCP_window_std_6', 'TCP_window_std_WE', 'TCP_window_sum_of_EW', 'UDP_len', 'dst_IP_diversity', 'dst_port_diversity', 'entropy', 'entropy_diff', 'entropy_mean_2', 'entropy_mean_6', 'entropy_mean_WE', 'entropy_std_6', 'entropy_std_9', 'entropy_std_WE', 'entropy_sum_of_EW', 'Ether_type', 'ICMP_type', 'payload_bytes', 'payload_bytes_mean_6', 'payload_bytes_mean_9', 'payload_bytes_mean_WE', 'payload_bytes_std_6', 'pck_size_diff', 'pck_size_mean_2', 'pck_size_mean_6', 'pck_size_mean_9', 'pck_size_mean_WE', 'pck_size_std_9', 'pck_size_std_WE', 'pck_size_sum_of_EW', 'sport_class', 'ts', 'ts_diff', 'ts_mean_2', 'ts_mean_6', 'ts_mean_9', 'ts_std_2', 'ts_std_6', 'ts_std_9', 'ts_std_WE', 'ts_sum_of_EW', 'Label']\n",
            "    Dataset      SW    T    CV  ML      Acc    b_Acc    Prec    Rec     F1    kap    ROC    tra-T    test-T\n",
            "--  ---------  ----  ---  ----  ----  -----  -------  ------  -----  -----  -----  -----  -------  --------\n",
            " 0  SYN_ARP       0    1     0  RF    0.999    0.998   0.999  0.998  0.999  0.998      0    7.821     0.045\n",
            " 1  SYN_ARP       0    2     0  RF    0.998    0.998   0.998  0.998  0.998  0.997      0    7.758     0.044\n",
            " 2  SYN_ARP       0    3     0  RF    0.998    0.998   0.998  0.998  0.998  0.996      0    7.202     0.045\n",
            " 3  SYN_ARP       0    4     0  RF    0.998    0.998   0.999  0.998  0.998  0.997      0    7.596     0.046\n",
            " 4  SYN_ARP       0    5     0  RF    0.998    0.999   0.999  0.999  0.999  0.998      0    7.562     0.044\n",
            " 5  SYN_ARP       0    1     1  RF    0.999    0.999   0.999  0.999  0.999  0.998      0    7.495     0.043\n",
            " 6  SYN_ARP       0    2     1  RF    0.999    0.999   0.999  0.999  0.999  0.998      0    7.696     0.045\n",
            " 7  SYN_ARP       0    3     1  RF    0.998    0.998   0.999  0.998  0.999  0.998      0    7.549     0.044\n",
            " 8  SYN_ARP       0    4     1  RF    0.998    0.998   0.998  0.998  0.998  0.996      0    8.14      0.047\n",
            " 9  SYN_ARP       0    5     1  RF    0.998    0.999   0.998  0.999  0.999  0.998      0    8.052     0.047\n",
            "\n",
            "                precision    recall    f1-score      support\n",
            "------------  -----------  --------  ----------  -----------\n",
            "Benign           0.997818  0.997115    0.997466  1558.8\n",
            "ARP-Spoofing     0.998249  0.998551    0.9984    2749.8\n",
            "SYN-Flooding     0.999371  0.999702    0.999536  1008.4\n",
            "accuracy         0.998345  0.998345    0.998345     0.998345\n",
            "macro avg        0.998479  0.998456    0.998467  5317\n",
            "weighted avg     0.998346  0.998345    0.998345  5317\n"
          ]
        },
        {
          "data": {
            "image/png": "[encoded data removed]",
            "text/plain": [
              "<Figure size 500x350 with 2 Axes>"
            ]
          },
          "metadata": {},
          "output_type": "display_data"
        },
        {
          "name": "stdout",
          "output_type": "stream",
          "text": [
            "\n",
            "\n",
            "\n",
            "\n"
          ]
        }
      ],
      "source": [
        "folder(\"results/cv/\")\n",
        "\n",
        "for file in file_list:\n",
        "    print(file)\n",
        "    feature=feature_list[file_list[file]]\n",
        "    train=file\n",
        "    test=file\n",
        "    #feature,_=GA(train,test,features,gen_number=25,outputcsv=f\"{file}_DT_chosed_GA_output.csv\")\n",
        "    print(feature)\n",
        "    output_csv=f\"./results/cv/{file_list[file]}_VAL_chosed_output_ML_.csv\"\n",
        "    # target_names=[\"0\",file_list[file]]\n",
        "    target_names=['Benign','ARP-Spoofing','SYN-Flooding']\n",
        "    ML_CV(train,test,output_csv,feature,file_list[file],0)\n"
      ]
    },
    {
      "cell_type": "markdown",
      "metadata": {
        "id": "qnsIgoMdpciK"
      },
      "source": [
        "# SS"
      ]
    },
    {
      "cell_type": "code",
      "execution_count": null,
      "metadata": {
        "id": "_RPKk7BCpciK"
      },
      "outputs": [],
      "source": [
        "file_list={\n",
        "    # \"SYN\":['./INPUT/SM/DoS-SYN-1.csv','./INPUT/SW/DoS-SYN-2.csv'],\n",
        "\"SYN_ARP\":['./train-data/train_syn_arp_data.csv','./test/syn-arp-attack-train.csv'],\n",
        "# \"HTTP\":['./INPUT/SM/MB-HTTP-4.csv','./INPUT/SW/MB-HTTP-1.csv'],\n",
        "# \"ACK\":['./INPUT/SM/MB-ACK-4.csv','./INPUT/SW/MB-ACK-1.csv'],\n",
        "# \"UDP\":['./INPUT/SM/MB-UDP-4.csv','./INPUT/SW/MB-UDP-1.csv'],\n",
        "# \"ARP\":['./INPUT/SM/MitM-ARP-6.csv','./INPUT/SW/MitM-ARP-4.csv'],\n",
        "# \"SP\":['./INPUT/SM/Scan-Port-3.csv','./INPUT/SW/Scan-Port-4.csv'],\n",
        "# \"BF\":['./INPUT/SM/MB-BF-5.csv','./INPUT/SW/MB-BF-3.csv'],\n",
        "# \"OS\":['./INPUT/SM/Scan-OS-3.csv','./INPUT/SW/Scan-OS-6.csv'],\n",
        "# \"SCHD\":['./INPUT/SM/Scan-HDis-3.csv','./INPUT/SW/MB-HDis-2.csv'],\n",
        "# \"MHDis\":['./INPUT/SM/MB-HDis-3.csv','./INPUT/SW/Scan-HDis-4.csv' ]\n",
        "}\n"
      ]
    },
    {
      "cell_type": "code",
      "execution_count": null,
      "metadata": {
        "id": "59YGVIfipciK"
      },
      "outputs": [],
      "source": []
    },
    {
      "cell_type": "code",
      "execution_count": null,
      "metadata": {
        "scrolled": true,
        "id": "hqq0skkHpciK",
        "outputId": "5bb267e0-979f-46b2-c2f9-aa528cdc83c1"
      },
      "outputs": [
        {
          "name": "stdout",
          "output_type": "stream",
          "text": [
            "SYN_ARP\n",
            "['DNS_arcount', 'DNS_nscount', 'DNS_qdcount', 'DNS_qr', 'DNS_ra', 'IP_DF', 'IP_MF', 'IP_flags', 'IP_proto', 'IP_tos', 'IP_ttl', 'Protocol', 'TCP_ACK', 'TCP_ACK_R', 'TCP_ACK_SR', 'TCP_ACK_sum', 'TCP_CWR', 'TCP_CWR_SR', 'TCP_CWR_ratio', 'TCP_ECE', 'TCP_ECE_SR', 'TCP_PSH_SR', 'TCP_PSH_ratio', 'TCP_RST_SR', 'TCP_RST_ratio', 'TCP_RST_sum', 'TCP_SYN', 'TCP_SYN_R', 'TCP_SYN_ratio', 'TCP_SYN_sum', 'TCP_URG_SR', 'TCP_window_mean_2', 'TCP_window_mean_9', 'TCP_window_mean_WE', 'TCP_window_std_6', 'TCP_window_std_WE', 'TCP_window_sum_of_EW', 'UDP_len', 'dst_IP_diversity', 'dst_port_diversity', 'entropy', 'entropy_diff', 'entropy_mean_2', 'entropy_mean_6', 'entropy_mean_WE', 'entropy_std_6', 'entropy_std_9', 'entropy_std_WE', 'entropy_sum_of_EW', 'Ether_type', 'ICMP_type', 'payload_bytes', 'payload_bytes_mean_6', 'payload_bytes_mean_9', 'payload_bytes_mean_WE', 'payload_bytes_std_6', 'pck_size_diff', 'pck_size_mean_2', 'pck_size_mean_6', 'pck_size_mean_9', 'pck_size_mean_WE', 'pck_size_std_9', 'pck_size_std_WE', 'pck_size_sum_of_EW', 'sport_class', 'ts', 'ts_diff', 'ts_mean_2', 'ts_mean_6', 'ts_mean_9', 'ts_std_2', 'ts_std_6', 'ts_std_9', 'ts_std_WE', 'ts_sum_of_EW', 'Label']\n",
            "    Dataset      SW    T    CV  ML      Acc    b_Acc    Prec    Rec     F1    kap    ROC    tra-T    test-T\n",
            "--  ---------  ----  ---  ----  ----  -----  -------  ------  -----  -----  -----  -----  -------  --------\n",
            " 0  SYN_ARP       0    1     0  RF    0.824    0.756   0.809  0.756  0.767  0.68       0    9.566     0.574\n",
            " 1  SYN_ARP       0    1     1  RF    0.829    0.763   0.817  0.763  0.774  0.689      0    9.249     0.577\n",
            " 2  SYN_ARP       0    1     2  RF    0.829    0.764   0.818  0.764  0.776  0.691      0    9.682     0.58\n",
            " 3  SYN_ARP       0    1     3  RF    0.828    0.765   0.815  0.765  0.776  0.69       0    9.254     0.57\n",
            " 4  SYN_ARP       0    1     4  RF    0.806    0.725   0.779  0.725  0.728  0.642      0    9.586     0.57\n",
            " 5  SYN_ARP       0    1     5  RF    0.778    0.683   0.707  0.683  0.671  0.585      0    9.482     0.568\n",
            " 6  SYN_ARP       0    1     6  RF    0.84     0.779   0.834  0.779  0.792  0.711      0    9.277     0.578\n",
            " 7  SYN_ARP       0    1     7  RF    0.853    0.803   0.847  0.803  0.817  0.738      0    9.218     0.578\n",
            " 8  SYN_ARP       0    1     8  RF    0.808    0.731   0.782  0.731  0.736  0.648      0    9.35      0.573\n",
            " 9  SYN_ARP       0    1     9  RF    0.817    0.742   0.801  0.742  0.75   0.666      0    9.301     0.575\n",
            "\n",
            "                precision    recall    f1-score       support\n",
            "------------  -----------  --------  ----------  ------------\n",
            "Benign           0.611668  0.32463     0.421545  15144\n",
            "ARP-Spoofing     0.792026  0.929225    0.854989  41779\n",
            "SYN-Flooding     0.998572  0.999644    0.999108  16862\n",
            "accuracy         0.821228  0.821228    0.821228      0.821228\n",
            "macro avg        0.800756  0.751167    0.758547  73785\n",
            "weighted avg     0.80221   0.821228    0.798962  73785\n"
          ]
        },
        {
          "data": {
            "image/png": "[encoded data removed]",
            "text/plain": [
              "<Figure size 500x350 with 2 Axes>"
            ]
          },
          "metadata": {},
          "output_type": "display_data"
        },
        {
          "name": "stdout",
          "output_type": "stream",
          "text": [
            "\n",
            "\n",
            "\n",
            "\n"
          ]
        }
      ],
      "source": [
        "folder(\"results/val/\")\n",
        "\n",
        "for file in file_list:\n",
        "    print(file)\n",
        "    feature=feature_list[file]\n",
        "    train=file_list[file][0]\n",
        "    test=file_list[file][1]\n",
        "    #feature,_=GA(train,test,features,gen_number=25,outputcsv=f\"{file}_DT_chosed_GA_output.csv\")\n",
        "    print(feature)\n",
        "    output_csv=f\"./results/val/{file}_VAL_chosed_output_ML_.csv\"\n",
        "    # target_names=[\"Benign\",file]\n",
        "    target_names=['Benign','ARP-Spoofing','SYN-Flooding']\n",
        "    ML(train,test,output_csv,feature,file,0)\n"
      ]
    },
    {
      "cell_type": "code",
      "execution_count": null,
      "metadata": {
        "id": "XwBi0KIJpciK",
        "outputId": "11bb08ff-ed81-4c74-b07c-ffdab2d42578"
      },
      "outputs": [
        {
          "name": "stdout",
          "output_type": "stream",
          "text": [
            "Sleep time:  3600 seconds\n",
            "Woke up after:  3 seconds\n"
          ]
        }
      ],
      "source": [
        "import time\n",
        "\n",
        "# sleep for 3 seconds\n",
        "print('Sleep time: ', str(3600), 'seconds')\n",
        "time.sleep(3600)\n",
        "print('Woke up after: ', str(3), 'seconds')\n"
      ]
    },
    {
      "cell_type": "code",
      "execution_count": null,
      "metadata": {
        "id": "fjfSfXi2pciK"
      },
      "outputs": [],
      "source": []
    },
    {
      "cell_type": "markdown",
      "metadata": {
        "id": "ItztdUPIpciK"
      },
      "source": [
        "# TEST"
      ]
    },
    {
      "cell_type": "code",
      "execution_count": null,
      "metadata": {
        "id": "L7sQyQUgpciK"
      },
      "outputs": [],
      "source": []
    },
    {
      "cell_type": "code",
      "execution_count": 14,
      "metadata": {
        "id": "kMncdRpepciK"
      },
      "outputs": [],
      "source": [
        "file_list={\n",
        "'SYN': ['./INPUT/SM/DoS-SYN-1.csv',  './INPUT/TEST/small_Edge_IIoT_DDoS_TCP_SYN_Flood_Attacks_00000_20211124180237._SW.csv'],\n",
        "#  'HTTP': ['./INPUT/SM/MB-HTTP-4.csv',  './INPUT/TEST/NetatmoCamHTTPFlood_1_SW.csv'],\n",
        "# 'ACK': ['./INPUT/SM/MB-ACK-4.csv',  './INPUT/TEST/NetatmoCamTCPFlood_3_SW.csv'],\n",
        "#  'UDP': ['./INPUT/SM/MB-UDP-4.csv',  './INPUT/TEST/Bot_IoT_UDP_DDoS_00001._SW.csv'],\n",
        "#  'ARP': ['./INPUT/SM/MitM-ARP-6.csv',   './INPUT/TEST/Kitsune_ARP_MitM._SW.csv'],\n",
        "#  'SP': ['./INPUT/SM/Scan-Port-3.csv', './INPUT/TEST/IoT_ENV_[Port_scan]Google_Home_Mini_SW.csv'],\n",
        "#  'BF': ['./INPUT/SM/MB-BF-5.csv',  './INPUT/TEST/AmcrestCamBruteForce_1_SW.csv'],\n",
        "#  'OS': ['./INPUT/SM/Scan-OS-3.csv',  './INPUT/TEST/IoT_ENV_[OS_Service_Detection]Google_Home_Mini_SW.csv'],\n",
        "# \"SCHD\":['./INPUT/SM/Scan-HDis-3.csv','./INPUT/SW/MB-HDis-3.csv'],\n",
        "# \"MHDis\":['./INPUT/SM/MB-HDis-3.csv','./INPUT/SW/Scan-HDis-3.csv' ]\n",
        "}"
      ]
    },
    {
      "cell_type": "code",
      "execution_count": 14,
      "metadata": {
        "id": "MjRiaB1mpciK"
      },
      "outputs": [],
      "source": []
    },
    {
      "cell_type": "code",
      "execution_count": 14,
      "metadata": {
        "id": "A_HzuSk8pciK"
      },
      "outputs": [],
      "source": []
    },
    {
      "cell_type": "code",
      "execution_count": 15,
      "metadata": {
        "scrolled": true,
        "colab": {
          "base_uri": "https://localhost:8080/",
          "height": 1000
        },
        "id": "0Pae97BvpciK",
        "outputId": "0a4625a9-ad19-42ab-8f66-02d4a0524153"
      },
      "outputs": [
        {
          "output_type": "stream",
          "name": "stdout",
          "text": [
            "SYN\n",
            "['ts', 'IP_flags', 'IP_DF', 'TCP_dataofs', 'TCP_SYN', 'TCP_ACK', 'sport_class', 'dst_IP_diversity', 'dst_port_diversity', 'pck_size_sum_of_EW', 'ts_diff', 'ts_std_WE', 'ts_sum_of_EW', 'TCP_window_std_WE', 'pck_size_mean_2', 'ts_mean_2', 'ts_std_2', 'TCP_window_mean_2', 'TCP_SYN_sum', 'TCP_ACK_sum', 'TCP_SYN_ratio', 'TCP_ACK_SR', 'ts_mean_6', 'ts_std_6', 'pck_size_mean_9', 'ts_mean_9', 'ts_std_9', 'TCP_window_mean_9', 'TCP_ACK_R', 'Label']\n",
            "    Dataset      SW    T    CV  ML      Acc    b_Acc    Prec    Rec     F1    kap    ROC    tra-T    test-T\n",
            "--  ---------  ----  ---  ----  ----  -----  -------  ------  -----  -----  -----  -----  -------  --------\n",
            " 0  SYN           1    1     0  RF    0.917    0.929   0.917  0.929  0.916  0.834  0.929    2.954     0.207\n",
            " 1  SYN           1    1     1  RF    0.915    0.927   0.915  0.927  0.914  0.83   0.927    2.301     0.307\n",
            " 2  SYN           1    1     2  RF    0.915    0.927   0.916  0.927  0.915  0.83   0.927    2.322     0.179\n",
            " 3  SYN           1    1     3  RF    0.915    0.927   0.916  0.927  0.915  0.83   0.927    2.19      0.199\n",
            " 4  SYN           1    1     4  RF    0.916    0.928   0.916  0.928  0.916  0.832  0.928    2.045     0.207\n",
            " 5  SYN           1    1     5  RF    0.915    0.927   0.915  0.927  0.914  0.83   0.927    2.781     0.188\n",
            " 6  SYN           1    1     6  RF    0.915    0.927   0.915  0.927  0.914  0.83   0.927    2.09      0.21\n",
            " 7  SYN           1    1     7  RF    0.915    0.927   0.915  0.927  0.914  0.83   0.927    1.953     0.156\n",
            " 8  SYN           1    1     8  RF    0.917    0.928   0.917  0.928  0.916  0.833  0.928    3.096     0.306\n",
            " 9  SYN           1    1     9  RF    0.915    0.927   0.915  0.927  0.914  0.83   0.927    2.104     0.204\n",
            "\n",
            "                precision    recall    f1-score        support\n",
            "------------  -----------  --------  ----------  -------------\n",
            "0                0.831731  1           0.908136   41791\n",
            "1                1         0.854749    0.921687   58209\n",
            "accuracy         0.915451  0.915451    0.915451       0.915451\n",
            "macro avg        0.915866  0.927375    0.914911  100000\n",
            "weighted avg     0.929679  0.915451    0.916024  100000\n"
          ]
        },
        {
          "output_type": "display_data",
          "data": {
            "text/plain": [
              "<Figure size 500x350 with 2 Axes>"
            ],
            "image/png": "[encoded data removed]"
          },
          "metadata": {}
        },
        {
          "output_type": "stream",
          "name": "stdout",
          "text": [
            "\n",
            "\n",
            "\n",
            "\n",
            "    Dataset      SW    T    CV  ML      Acc    b_Acc    Prec    Rec     F1    kap    ROC    tra-T    test-T\n",
            "--  ---------  ----  ---  ----  ----  -----  -------  ------  -----  -----  -----  -----  -------  --------\n",
            " 0  SYN           1    1     0  SVM   0.418      0.5   0.209    0.5  0.295      0    0.5  352.116   228.074\n",
            " 1  SYN           1    1     1  SVM   0.418      0.5   0.209    0.5  0.295      0    0.5  356.639   227.885\n",
            " 2  SYN           1    1     2  SVM   0.418      0.5   0.209    0.5  0.295      0    0.5  364.64    230.327\n",
            " 3  SYN           1    1     3  SVM   0.418      0.5   0.209    0.5  0.295      0    0.5  387.33    227.963\n",
            " 4  SYN           1    1     4  SVM   0.418      0.5   0.209    0.5  0.295      0    0.5  349.237   226.539\n",
            " 5  SYN           1    1     5  SVM   0.418      0.5   0.209    0.5  0.295      0    0.5  340.871   227.946\n",
            " 6  SYN           1    1     6  SVM   0.418      0.5   0.209    0.5  0.295      0    0.5  346.404   227.79\n",
            " 7  SYN           1    1     7  SVM   0.418      0.5   0.209    0.5  0.295      0    0.5  344.53    225.766\n",
            " 8  SYN           1    1     8  SVM   0.418      0.5   0.209    0.5  0.295      0    0.5  349.596   225.62\n",
            " 9  SYN           1    1     9  SVM   0.418      0.5   0.209    0.5  0.295      0    0.5  342.261   234.059\n",
            "\n",
            "                precision    recall    f1-score       support\n",
            "------------  -----------  --------  ----------  ------------\n",
            "0                0.41791    1          0.589473   41791\n",
            "1                0          0          0          58209\n",
            "accuracy         0.41791    0.41791    0.41791        0.41791\n",
            "macro avg        0.208955   0.5        0.294737  100000\n",
            "weighted avg     0.174649   0.41791    0.246347  100000\n"
          ]
        },
        {
          "output_type": "display_data",
          "data": {
            "text/plain": [
              "<Figure size 500x350 with 2 Axes>"
            ],
            "image/png": "[encoded data removed]"
          },
          "metadata": {}
        },
        {
          "output_type": "stream",
          "name": "stdout",
          "text": [
            "\n",
            "\n",
            "\n",
            "\n",
            "    Dataset      SW    T    CV  ML      Acc    b_Acc    Prec    Rec     F1    kap    ROC    tra-T    test-T\n",
            "--  ---------  ----  ---  ----  ----  -----  -------  ------  -----  -----  -----  -----  -------  --------\n",
            " 0  SYN           1    1     0  NB    0.997    0.997   0.997  0.997  0.997  0.994  0.997    0.023     0.035\n",
            " 1  SYN           1    1     1  NB    0.997    0.997   0.997  0.997  0.997  0.994  0.997    0.03      0.051\n",
            " 2  SYN           1    1     2  NB    0.997    0.997   0.997  0.997  0.997  0.994  0.997    0.022     0.034\n",
            " 3  SYN           1    1     3  NB    0.997    0.997   0.997  0.997  0.997  0.994  0.997    0.022     0.036\n",
            " 4  SYN           1    1     4  NB    0.997    0.997   0.997  0.997  0.997  0.994  0.997    0.037     0.064\n",
            " 5  SYN           1    1     5  NB    0.997    0.997   0.997  0.997  0.997  0.994  0.997    0.024     0.041\n",
            " 6  SYN           1    1     6  NB    0.997    0.997   0.997  0.997  0.997  0.994  0.997    0.028     0.046\n",
            " 7  SYN           1    1     7  NB    0.997    0.997   0.997  0.997  0.997  0.994  0.997    0.021     0.036\n",
            " 8  SYN           1    1     8  NB    0.997    0.997   0.997  0.997  0.997  0.994  0.997    0.02      0.035\n",
            " 9  SYN           1    1     9  NB    0.997    0.997   0.997  0.997  0.997  0.994  0.997    0.028     0.05\n",
            "\n",
            "                precision    recall    f1-score       support\n",
            "------------  -----------  --------  ----------  ------------\n",
            "0                0.995324  0.998277    0.996798   41791\n",
            "1                0.99876   0.996633    0.997695   58209\n",
            "accuracy         0.99732   0.99732     0.99732        0.99732\n",
            "macro avg        0.997042  0.997455    0.997247  100000\n",
            "weighted avg     0.997324  0.99732     0.997321  100000\n"
          ]
        },
        {
          "output_type": "display_data",
          "data": {
            "text/plain": [
              "<Figure size 500x350 with 2 Axes>"
            ],
            "image/png": "[encoded data removed]"
          },
          "metadata": {}
        },
        {
          "output_type": "stream",
          "name": "stdout",
          "text": [
            "\n",
            "\n",
            "\n",
            "\n"
          ]
        }
      ],
      "source": [
        "folder(\"results/test/\")\n",
        "\n",
        "for file in file_list:\n",
        "    print(file)\n",
        "    #if \"UDP\" in file:        feature=feature_list[\"UDP\"]\n",
        "    #else:        feature=feature_list[file]\n",
        "    feature=feature_list[file]\n",
        "    train=file_list[file][0]\n",
        "    test=file_list[file][1]\n",
        "    #feature,_=GA(train,test,features,gen_number=25,outputcsv=f\"{file}_DT_chosed_GA_output.csv\")\n",
        "    print(feature)\n",
        "    output_csv=f\"./results/test/{file}_TEST_chosed_output_ML_.csv\"\n",
        "    # target_names=[0,1]\n",
        "    target_names=[0,1]\n",
        "    ML(train,test,output_csv,feature,file,1)\n"
      ]
    },
    {
      "cell_type": "code",
      "execution_count": 16,
      "metadata": {
        "id": "fiImU4o5pciL",
        "outputId": "5bbe461b-f375-4cc9-b1bb-2ee923c72941",
        "colab": {
          "base_uri": "https://localhost:8080/"
        }
      },
      "outputs": [
        {
          "output_type": "stream",
          "name": "stdout",
          "text": [
            "2\n"
          ]
        }
      ],
      "source": [
        "print(2)"
      ]
    },
    {
      "cell_type": "code",
      "execution_count": 17,
      "metadata": {
        "id": "zKjC2b7XpciL",
        "outputId": "ead64728-e8be-4bfd-d1cf-9e42d9843207",
        "colab": {
          "base_uri": "https://localhost:8080/",
          "height": 373
        }
      },
      "outputs": [
        {
          "output_type": "stream",
          "name": "stderr",
          "text": [
            "  0%|          | 0/3 [00:00<?, ?it/s]\n"
          ]
        },
        {
          "output_type": "error",
          "ename": "TypeError",
          "evalue": "Could not convert ['SYNSYNSYNSYNSYNSYNSYNSYNSYNSYN' 'RFRFRFRFRFRFRFRFRFRF'] to numeric",
          "traceback": [
            "\u001b[0;31m---------------------------------------------------------------------------\u001b[0m",
            "\u001b[0;31mTypeError\u001b[0m                                 Traceback (most recent call last)",
            "\u001b[0;32m<ipython-input-17-ed1bd2914628>\u001b[0m in \u001b[0;36m<cell line: 9>\u001b[0;34m()\u001b[0m\n\u001b[1;32m     10\u001b[0m     \u001b[0mdf\u001b[0m\u001b[0;34m=\u001b[0m\u001b[0mpd\u001b[0m\u001b[0;34m.\u001b[0m\u001b[0mread_csv\u001b[0m\u001b[0;34m(\u001b[0m\u001b[0mi\u001b[0m\u001b[0;34m)\u001b[0m\u001b[0;34m\u001b[0m\u001b[0;34m\u001b[0m\u001b[0m\n\u001b[1;32m     11\u001b[0m     \u001b[0mtemp\u001b[0m\u001b[0;34m=\u001b[0m\u001b[0mdf\u001b[0m\u001b[0;34m.\u001b[0m\u001b[0mvalues\u001b[0m\u001b[0;34m\u001b[0m\u001b[0;34m\u001b[0m\u001b[0m\n\u001b[0;32m---> 12\u001b[0;31m     \u001b[0mdf\u001b[0m\u001b[0;34m=\u001b[0m\u001b[0mdf\u001b[0m\u001b[0;34m.\u001b[0m\u001b[0mmean\u001b[0m\u001b[0;34m(\u001b[0m\u001b[0;34m)\u001b[0m\u001b[0;34m\u001b[0m\u001b[0;34m\u001b[0m\u001b[0m\n\u001b[0m\u001b[1;32m     13\u001b[0m     \u001b[0mdf\u001b[0m\u001b[0;34m=\u001b[0m\u001b[0mlist\u001b[0m\u001b[0;34m(\u001b[0m\u001b[0mdf\u001b[0m\u001b[0;34m.\u001b[0m\u001b[0mvalues\u001b[0m\u001b[0;34m)\u001b[0m\u001b[0;34m\u001b[0m\u001b[0;34m\u001b[0m\u001b[0m\n\u001b[1;32m     14\u001b[0m     \u001b[0mtemp\u001b[0m\u001b[0;34m=\u001b[0m\u001b[0;34m[\u001b[0m\u001b[0mtemp\u001b[0m\u001b[0;34m[\u001b[0m\u001b[0;36m0\u001b[0m\u001b[0;34m]\u001b[0m\u001b[0;34m[\u001b[0m\u001b[0;36m0\u001b[0m\u001b[0;34m]\u001b[0m\u001b[0;34m,\u001b[0m\u001b[0mtemp\u001b[0m\u001b[0;34m[\u001b[0m\u001b[0;36m0\u001b[0m\u001b[0;34m]\u001b[0m\u001b[0;34m[\u001b[0m\u001b[0;36m4\u001b[0m\u001b[0;34m]\u001b[0m\u001b[0;34m]\u001b[0m\u001b[0;34m\u001b[0m\u001b[0;34m\u001b[0m\u001b[0m\n",
            "\u001b[0;32m/usr/local/lib/python3.10/dist-packages/pandas/core/frame.py\u001b[0m in \u001b[0;36mmean\u001b[0;34m(self, axis, skipna, numeric_only, **kwargs)\u001b[0m\n\u001b[1;32m  11691\u001b[0m         \u001b[0;34m**\u001b[0m\u001b[0mkwargs\u001b[0m\u001b[0;34m,\u001b[0m\u001b[0;34m\u001b[0m\u001b[0;34m\u001b[0m\u001b[0m\n\u001b[1;32m  11692\u001b[0m     ):\n\u001b[0;32m> 11693\u001b[0;31m         \u001b[0mresult\u001b[0m \u001b[0;34m=\u001b[0m \u001b[0msuper\u001b[0m\u001b[0;34m(\u001b[0m\u001b[0;34m)\u001b[0m\u001b[0;34m.\u001b[0m\u001b[0mmean\u001b[0m\u001b[0;34m(\u001b[0m\u001b[0maxis\u001b[0m\u001b[0;34m,\u001b[0m \u001b[0mskipna\u001b[0m\u001b[0;34m,\u001b[0m \u001b[0mnumeric_only\u001b[0m\u001b[0;34m,\u001b[0m \u001b[0;34m**\u001b[0m\u001b[0mkwargs\u001b[0m\u001b[0;34m)\u001b[0m\u001b[0;34m\u001b[0m\u001b[0;34m\u001b[0m\u001b[0m\n\u001b[0m\u001b[1;32m  11694\u001b[0m         \u001b[0;32mif\u001b[0m \u001b[0misinstance\u001b[0m\u001b[0;34m(\u001b[0m\u001b[0mresult\u001b[0m\u001b[0;34m,\u001b[0m \u001b[0mSeries\u001b[0m\u001b[0;34m)\u001b[0m\u001b[0;34m:\u001b[0m\u001b[0;34m\u001b[0m\u001b[0;34m\u001b[0m\u001b[0m\n\u001b[1;32m  11695\u001b[0m             \u001b[0mresult\u001b[0m \u001b[0;34m=\u001b[0m \u001b[0mresult\u001b[0m\u001b[0;34m.\u001b[0m\u001b[0m__finalize__\u001b[0m\u001b[0;34m(\u001b[0m\u001b[0mself\u001b[0m\u001b[0;34m,\u001b[0m \u001b[0mmethod\u001b[0m\u001b[0;34m=\u001b[0m\u001b[0;34m\"mean\"\u001b[0m\u001b[0;34m)\u001b[0m\u001b[0;34m\u001b[0m\u001b[0;34m\u001b[0m\u001b[0m\n",
            "\u001b[0;32m/usr/local/lib/python3.10/dist-packages/pandas/core/generic.py\u001b[0m in \u001b[0;36mmean\u001b[0;34m(self, axis, skipna, numeric_only, **kwargs)\u001b[0m\n\u001b[1;32m  12418\u001b[0m         \u001b[0;34m**\u001b[0m\u001b[0mkwargs\u001b[0m\u001b[0;34m,\u001b[0m\u001b[0;34m\u001b[0m\u001b[0;34m\u001b[0m\u001b[0m\n\u001b[1;32m  12419\u001b[0m     ) -> Series | float:\n\u001b[0;32m> 12420\u001b[0;31m         return self._stat_function(\n\u001b[0m\u001b[1;32m  12421\u001b[0m             \u001b[0;34m\"mean\"\u001b[0m\u001b[0;34m,\u001b[0m \u001b[0mnanops\u001b[0m\u001b[0;34m.\u001b[0m\u001b[0mnanmean\u001b[0m\u001b[0;34m,\u001b[0m \u001b[0maxis\u001b[0m\u001b[0;34m,\u001b[0m \u001b[0mskipna\u001b[0m\u001b[0;34m,\u001b[0m \u001b[0mnumeric_only\u001b[0m\u001b[0;34m,\u001b[0m \u001b[0;34m**\u001b[0m\u001b[0mkwargs\u001b[0m\u001b[0;34m\u001b[0m\u001b[0;34m\u001b[0m\u001b[0m\n\u001b[1;32m  12422\u001b[0m         )\n",
            "\u001b[0;32m/usr/local/lib/python3.10/dist-packages/pandas/core/generic.py\u001b[0m in \u001b[0;36m_stat_function\u001b[0;34m(self, name, func, axis, skipna, numeric_only, **kwargs)\u001b[0m\n\u001b[1;32m  12375\u001b[0m         \u001b[0mvalidate_bool_kwarg\u001b[0m\u001b[0;34m(\u001b[0m\u001b[0mskipna\u001b[0m\u001b[0;34m,\u001b[0m \u001b[0;34m\"skipna\"\u001b[0m\u001b[0;34m,\u001b[0m \u001b[0mnone_allowed\u001b[0m\u001b[0;34m=\u001b[0m\u001b[0;32mFalse\u001b[0m\u001b[0;34m)\u001b[0m\u001b[0;34m\u001b[0m\u001b[0;34m\u001b[0m\u001b[0m\n\u001b[1;32m  12376\u001b[0m \u001b[0;34m\u001b[0m\u001b[0m\n\u001b[0;32m> 12377\u001b[0;31m         return self._reduce(\n\u001b[0m\u001b[1;32m  12378\u001b[0m             \u001b[0mfunc\u001b[0m\u001b[0;34m,\u001b[0m \u001b[0mname\u001b[0m\u001b[0;34m=\u001b[0m\u001b[0mname\u001b[0m\u001b[0;34m,\u001b[0m \u001b[0maxis\u001b[0m\u001b[0;34m=\u001b[0m\u001b[0maxis\u001b[0m\u001b[0;34m,\u001b[0m \u001b[0mskipna\u001b[0m\u001b[0;34m=\u001b[0m\u001b[0mskipna\u001b[0m\u001b[0;34m,\u001b[0m \u001b[0mnumeric_only\u001b[0m\u001b[0;34m=\u001b[0m\u001b[0mnumeric_only\u001b[0m\u001b[0;34m\u001b[0m\u001b[0;34m\u001b[0m\u001b[0m\n\u001b[1;32m  12379\u001b[0m         )\n",
            "\u001b[0;32m/usr/local/lib/python3.10/dist-packages/pandas/core/frame.py\u001b[0m in \u001b[0;36m_reduce\u001b[0;34m(self, op, name, axis, skipna, numeric_only, filter_type, **kwds)\u001b[0m\n\u001b[1;32m  11560\u001b[0m         \u001b[0;31m# After possibly _get_data and transposing, we are now in the\u001b[0m\u001b[0;34m\u001b[0m\u001b[0;34m\u001b[0m\u001b[0m\n\u001b[1;32m  11561\u001b[0m         \u001b[0;31m#  simple case where we can use BlockManager.reduce\u001b[0m\u001b[0;34m\u001b[0m\u001b[0;34m\u001b[0m\u001b[0m\n\u001b[0;32m> 11562\u001b[0;31m         \u001b[0mres\u001b[0m \u001b[0;34m=\u001b[0m \u001b[0mdf\u001b[0m\u001b[0;34m.\u001b[0m\u001b[0m_mgr\u001b[0m\u001b[0;34m.\u001b[0m\u001b[0mreduce\u001b[0m\u001b[0;34m(\u001b[0m\u001b[0mblk_func\u001b[0m\u001b[0;34m)\u001b[0m\u001b[0;34m\u001b[0m\u001b[0;34m\u001b[0m\u001b[0m\n\u001b[0m\u001b[1;32m  11563\u001b[0m         \u001b[0mout\u001b[0m \u001b[0;34m=\u001b[0m \u001b[0mdf\u001b[0m\u001b[0;34m.\u001b[0m\u001b[0m_constructor_from_mgr\u001b[0m\u001b[0;34m(\u001b[0m\u001b[0mres\u001b[0m\u001b[0;34m,\u001b[0m \u001b[0maxes\u001b[0m\u001b[0;34m=\u001b[0m\u001b[0mres\u001b[0m\u001b[0;34m.\u001b[0m\u001b[0maxes\u001b[0m\u001b[0;34m)\u001b[0m\u001b[0;34m.\u001b[0m\u001b[0miloc\u001b[0m\u001b[0;34m[\u001b[0m\u001b[0;36m0\u001b[0m\u001b[0;34m]\u001b[0m\u001b[0;34m\u001b[0m\u001b[0;34m\u001b[0m\u001b[0m\n\u001b[1;32m  11564\u001b[0m         \u001b[0;32mif\u001b[0m \u001b[0mout_dtype\u001b[0m \u001b[0;32mis\u001b[0m \u001b[0;32mnot\u001b[0m \u001b[0;32mNone\u001b[0m \u001b[0;32mand\u001b[0m \u001b[0mout\u001b[0m\u001b[0;34m.\u001b[0m\u001b[0mdtype\u001b[0m \u001b[0;34m!=\u001b[0m \u001b[0;34m\"boolean\"\u001b[0m\u001b[0;34m:\u001b[0m\u001b[0;34m\u001b[0m\u001b[0;34m\u001b[0m\u001b[0m\n",
            "\u001b[0;32m/usr/local/lib/python3.10/dist-packages/pandas/core/internals/managers.py\u001b[0m in \u001b[0;36mreduce\u001b[0;34m(self, func)\u001b[0m\n\u001b[1;32m   1498\u001b[0m         \u001b[0mres_blocks\u001b[0m\u001b[0;34m:\u001b[0m \u001b[0mlist\u001b[0m\u001b[0;34m[\u001b[0m\u001b[0mBlock\u001b[0m\u001b[0;34m]\u001b[0m \u001b[0;34m=\u001b[0m \u001b[0;34m[\u001b[0m\u001b[0;34m]\u001b[0m\u001b[0;34m\u001b[0m\u001b[0;34m\u001b[0m\u001b[0m\n\u001b[1;32m   1499\u001b[0m         \u001b[0;32mfor\u001b[0m \u001b[0mblk\u001b[0m \u001b[0;32min\u001b[0m \u001b[0mself\u001b[0m\u001b[0;34m.\u001b[0m\u001b[0mblocks\u001b[0m\u001b[0;34m:\u001b[0m\u001b[0;34m\u001b[0m\u001b[0;34m\u001b[0m\u001b[0m\n\u001b[0;32m-> 1500\u001b[0;31m             \u001b[0mnbs\u001b[0m \u001b[0;34m=\u001b[0m \u001b[0mblk\u001b[0m\u001b[0;34m.\u001b[0m\u001b[0mreduce\u001b[0m\u001b[0;34m(\u001b[0m\u001b[0mfunc\u001b[0m\u001b[0;34m)\u001b[0m\u001b[0;34m\u001b[0m\u001b[0;34m\u001b[0m\u001b[0m\n\u001b[0m\u001b[1;32m   1501\u001b[0m             \u001b[0mres_blocks\u001b[0m\u001b[0;34m.\u001b[0m\u001b[0mextend\u001b[0m\u001b[0;34m(\u001b[0m\u001b[0mnbs\u001b[0m\u001b[0;34m)\u001b[0m\u001b[0;34m\u001b[0m\u001b[0;34m\u001b[0m\u001b[0m\n\u001b[1;32m   1502\u001b[0m \u001b[0;34m\u001b[0m\u001b[0m\n",
            "\u001b[0;32m/usr/local/lib/python3.10/dist-packages/pandas/core/internals/blocks.py\u001b[0m in \u001b[0;36mreduce\u001b[0;34m(self, func)\u001b[0m\n\u001b[1;32m    402\u001b[0m         \u001b[0;32massert\u001b[0m \u001b[0mself\u001b[0m\u001b[0;34m.\u001b[0m\u001b[0mndim\u001b[0m \u001b[0;34m==\u001b[0m \u001b[0;36m2\u001b[0m\u001b[0;34m\u001b[0m\u001b[0;34m\u001b[0m\u001b[0m\n\u001b[1;32m    403\u001b[0m \u001b[0;34m\u001b[0m\u001b[0m\n\u001b[0;32m--> 404\u001b[0;31m         \u001b[0mresult\u001b[0m \u001b[0;34m=\u001b[0m \u001b[0mfunc\u001b[0m\u001b[0;34m(\u001b[0m\u001b[0mself\u001b[0m\u001b[0;34m.\u001b[0m\u001b[0mvalues\u001b[0m\u001b[0;34m)\u001b[0m\u001b[0;34m\u001b[0m\u001b[0;34m\u001b[0m\u001b[0m\n\u001b[0m\u001b[1;32m    405\u001b[0m \u001b[0;34m\u001b[0m\u001b[0m\n\u001b[1;32m    406\u001b[0m         \u001b[0;32mif\u001b[0m \u001b[0mself\u001b[0m\u001b[0;34m.\u001b[0m\u001b[0mvalues\u001b[0m\u001b[0;34m.\u001b[0m\u001b[0mndim\u001b[0m \u001b[0;34m==\u001b[0m \u001b[0;36m1\u001b[0m\u001b[0;34m:\u001b[0m\u001b[0;34m\u001b[0m\u001b[0;34m\u001b[0m\u001b[0m\n",
            "\u001b[0;32m/usr/local/lib/python3.10/dist-packages/pandas/core/frame.py\u001b[0m in \u001b[0;36mblk_func\u001b[0;34m(values, axis)\u001b[0m\n\u001b[1;32m  11479\u001b[0m                     \u001b[0;32mreturn\u001b[0m \u001b[0mnp\u001b[0m\u001b[0;34m.\u001b[0m\u001b[0marray\u001b[0m\u001b[0;34m(\u001b[0m\u001b[0;34m[\u001b[0m\u001b[0mresult\u001b[0m\u001b[0;34m]\u001b[0m\u001b[0;34m)\u001b[0m\u001b[0;34m\u001b[0m\u001b[0;34m\u001b[0m\u001b[0m\n\u001b[1;32m  11480\u001b[0m             \u001b[0;32melse\u001b[0m\u001b[0;34m:\u001b[0m\u001b[0;34m\u001b[0m\u001b[0;34m\u001b[0m\u001b[0m\n\u001b[0;32m> 11481\u001b[0;31m                 \u001b[0;32mreturn\u001b[0m \u001b[0mop\u001b[0m\u001b[0;34m(\u001b[0m\u001b[0mvalues\u001b[0m\u001b[0;34m,\u001b[0m \u001b[0maxis\u001b[0m\u001b[0;34m=\u001b[0m\u001b[0maxis\u001b[0m\u001b[0;34m,\u001b[0m \u001b[0mskipna\u001b[0m\u001b[0;34m=\u001b[0m\u001b[0mskipna\u001b[0m\u001b[0;34m,\u001b[0m \u001b[0;34m**\u001b[0m\u001b[0mkwds\u001b[0m\u001b[0;34m)\u001b[0m\u001b[0;34m\u001b[0m\u001b[0;34m\u001b[0m\u001b[0m\n\u001b[0m\u001b[1;32m  11482\u001b[0m \u001b[0;34m\u001b[0m\u001b[0m\n\u001b[1;32m  11483\u001b[0m         \u001b[0;32mdef\u001b[0m \u001b[0m_get_data\u001b[0m\u001b[0;34m(\u001b[0m\u001b[0;34m)\u001b[0m \u001b[0;34m->\u001b[0m \u001b[0mDataFrame\u001b[0m\u001b[0;34m:\u001b[0m\u001b[0;34m\u001b[0m\u001b[0;34m\u001b[0m\u001b[0m\n",
            "\u001b[0;32m/usr/local/lib/python3.10/dist-packages/pandas/core/nanops.py\u001b[0m in \u001b[0;36mf\u001b[0;34m(values, axis, skipna, **kwds)\u001b[0m\n\u001b[1;32m    145\u001b[0m                     \u001b[0mresult\u001b[0m \u001b[0;34m=\u001b[0m \u001b[0malt\u001b[0m\u001b[0;34m(\u001b[0m\u001b[0mvalues\u001b[0m\u001b[0;34m,\u001b[0m \u001b[0maxis\u001b[0m\u001b[0;34m=\u001b[0m\u001b[0maxis\u001b[0m\u001b[0;34m,\u001b[0m \u001b[0mskipna\u001b[0m\u001b[0;34m=\u001b[0m\u001b[0mskipna\u001b[0m\u001b[0;34m,\u001b[0m \u001b[0;34m**\u001b[0m\u001b[0mkwds\u001b[0m\u001b[0;34m)\u001b[0m\u001b[0;34m\u001b[0m\u001b[0;34m\u001b[0m\u001b[0m\n\u001b[1;32m    146\u001b[0m             \u001b[0;32melse\u001b[0m\u001b[0;34m:\u001b[0m\u001b[0;34m\u001b[0m\u001b[0;34m\u001b[0m\u001b[0m\n\u001b[0;32m--> 147\u001b[0;31m                 \u001b[0mresult\u001b[0m \u001b[0;34m=\u001b[0m \u001b[0malt\u001b[0m\u001b[0;34m(\u001b[0m\u001b[0mvalues\u001b[0m\u001b[0;34m,\u001b[0m \u001b[0maxis\u001b[0m\u001b[0;34m=\u001b[0m\u001b[0maxis\u001b[0m\u001b[0;34m,\u001b[0m \u001b[0mskipna\u001b[0m\u001b[0;34m=\u001b[0m\u001b[0mskipna\u001b[0m\u001b[0;34m,\u001b[0m \u001b[0;34m**\u001b[0m\u001b[0mkwds\u001b[0m\u001b[0;34m)\u001b[0m\u001b[0;34m\u001b[0m\u001b[0;34m\u001b[0m\u001b[0m\n\u001b[0m\u001b[1;32m    148\u001b[0m \u001b[0;34m\u001b[0m\u001b[0m\n\u001b[1;32m    149\u001b[0m             \u001b[0;32mreturn\u001b[0m \u001b[0mresult\u001b[0m\u001b[0;34m\u001b[0m\u001b[0;34m\u001b[0m\u001b[0m\n",
            "\u001b[0;32m/usr/local/lib/python3.10/dist-packages/pandas/core/nanops.py\u001b[0m in \u001b[0;36mnew_func\u001b[0;34m(values, axis, skipna, mask, **kwargs)\u001b[0m\n\u001b[1;32m    402\u001b[0m             \u001b[0mmask\u001b[0m \u001b[0;34m=\u001b[0m \u001b[0misna\u001b[0m\u001b[0;34m(\u001b[0m\u001b[0mvalues\u001b[0m\u001b[0;34m)\u001b[0m\u001b[0;34m\u001b[0m\u001b[0;34m\u001b[0m\u001b[0m\n\u001b[1;32m    403\u001b[0m \u001b[0;34m\u001b[0m\u001b[0m\n\u001b[0;32m--> 404\u001b[0;31m         \u001b[0mresult\u001b[0m \u001b[0;34m=\u001b[0m \u001b[0mfunc\u001b[0m\u001b[0;34m(\u001b[0m\u001b[0mvalues\u001b[0m\u001b[0;34m,\u001b[0m \u001b[0maxis\u001b[0m\u001b[0;34m=\u001b[0m\u001b[0maxis\u001b[0m\u001b[0;34m,\u001b[0m \u001b[0mskipna\u001b[0m\u001b[0;34m=\u001b[0m\u001b[0mskipna\u001b[0m\u001b[0;34m,\u001b[0m \u001b[0mmask\u001b[0m\u001b[0;34m=\u001b[0m\u001b[0mmask\u001b[0m\u001b[0;34m,\u001b[0m \u001b[0;34m**\u001b[0m\u001b[0mkwargs\u001b[0m\u001b[0;34m)\u001b[0m\u001b[0;34m\u001b[0m\u001b[0;34m\u001b[0m\u001b[0m\n\u001b[0m\u001b[1;32m    405\u001b[0m \u001b[0;34m\u001b[0m\u001b[0m\n\u001b[1;32m    406\u001b[0m         \u001b[0;32mif\u001b[0m \u001b[0mdatetimelike\u001b[0m\u001b[0;34m:\u001b[0m\u001b[0;34m\u001b[0m\u001b[0;34m\u001b[0m\u001b[0m\n",
            "\u001b[0;32m/usr/local/lib/python3.10/dist-packages/pandas/core/nanops.py\u001b[0m in \u001b[0;36mnanmean\u001b[0;34m(values, axis, skipna, mask)\u001b[0m\n\u001b[1;32m    718\u001b[0m     \u001b[0mcount\u001b[0m \u001b[0;34m=\u001b[0m \u001b[0m_get_counts\u001b[0m\u001b[0;34m(\u001b[0m\u001b[0mvalues\u001b[0m\u001b[0;34m.\u001b[0m\u001b[0mshape\u001b[0m\u001b[0;34m,\u001b[0m \u001b[0mmask\u001b[0m\u001b[0;34m,\u001b[0m \u001b[0maxis\u001b[0m\u001b[0;34m,\u001b[0m \u001b[0mdtype\u001b[0m\u001b[0;34m=\u001b[0m\u001b[0mdtype_count\u001b[0m\u001b[0;34m)\u001b[0m\u001b[0;34m\u001b[0m\u001b[0;34m\u001b[0m\u001b[0m\n\u001b[1;32m    719\u001b[0m     \u001b[0mthe_sum\u001b[0m \u001b[0;34m=\u001b[0m \u001b[0mvalues\u001b[0m\u001b[0;34m.\u001b[0m\u001b[0msum\u001b[0m\u001b[0;34m(\u001b[0m\u001b[0maxis\u001b[0m\u001b[0;34m,\u001b[0m \u001b[0mdtype\u001b[0m\u001b[0;34m=\u001b[0m\u001b[0mdtype_sum\u001b[0m\u001b[0;34m)\u001b[0m\u001b[0;34m\u001b[0m\u001b[0;34m\u001b[0m\u001b[0m\n\u001b[0;32m--> 720\u001b[0;31m     \u001b[0mthe_sum\u001b[0m \u001b[0;34m=\u001b[0m \u001b[0m_ensure_numeric\u001b[0m\u001b[0;34m(\u001b[0m\u001b[0mthe_sum\u001b[0m\u001b[0;34m)\u001b[0m\u001b[0;34m\u001b[0m\u001b[0;34m\u001b[0m\u001b[0m\n\u001b[0m\u001b[1;32m    721\u001b[0m \u001b[0;34m\u001b[0m\u001b[0m\n\u001b[1;32m    722\u001b[0m     \u001b[0;32mif\u001b[0m \u001b[0maxis\u001b[0m \u001b[0;32mis\u001b[0m \u001b[0;32mnot\u001b[0m \u001b[0;32mNone\u001b[0m \u001b[0;32mand\u001b[0m \u001b[0mgetattr\u001b[0m\u001b[0;34m(\u001b[0m\u001b[0mthe_sum\u001b[0m\u001b[0;34m,\u001b[0m \u001b[0;34m\"ndim\"\u001b[0m\u001b[0;34m,\u001b[0m \u001b[0;32mFalse\u001b[0m\u001b[0;34m)\u001b[0m\u001b[0;34m:\u001b[0m\u001b[0;34m\u001b[0m\u001b[0;34m\u001b[0m\u001b[0m\n",
            "\u001b[0;32m/usr/local/lib/python3.10/dist-packages/pandas/core/nanops.py\u001b[0m in \u001b[0;36m_ensure_numeric\u001b[0;34m(x)\u001b[0m\n\u001b[1;32m   1684\u001b[0m             \u001b[0;32mif\u001b[0m \u001b[0minferred\u001b[0m \u001b[0;32min\u001b[0m \u001b[0;34m[\u001b[0m\u001b[0;34m\"string\"\u001b[0m\u001b[0;34m,\u001b[0m \u001b[0;34m\"mixed\"\u001b[0m\u001b[0;34m]\u001b[0m\u001b[0;34m:\u001b[0m\u001b[0;34m\u001b[0m\u001b[0;34m\u001b[0m\u001b[0m\n\u001b[1;32m   1685\u001b[0m                 \u001b[0;31m# GH#44008, GH#36703 avoid casting e.g. strings to numeric\u001b[0m\u001b[0;34m\u001b[0m\u001b[0;34m\u001b[0m\u001b[0m\n\u001b[0;32m-> 1686\u001b[0;31m                 \u001b[0;32mraise\u001b[0m \u001b[0mTypeError\u001b[0m\u001b[0;34m(\u001b[0m\u001b[0;34mf\"Could not convert {x} to numeric\"\u001b[0m\u001b[0;34m)\u001b[0m\u001b[0;34m\u001b[0m\u001b[0;34m\u001b[0m\u001b[0m\n\u001b[0m\u001b[1;32m   1687\u001b[0m             \u001b[0;32mtry\u001b[0m\u001b[0;34m:\u001b[0m\u001b[0;34m\u001b[0m\u001b[0;34m\u001b[0m\u001b[0m\n\u001b[1;32m   1688\u001b[0m                 \u001b[0mx\u001b[0m \u001b[0;34m=\u001b[0m \u001b[0mx\u001b[0m\u001b[0;34m.\u001b[0m\u001b[0mastype\u001b[0m\u001b[0;34m(\u001b[0m\u001b[0mnp\u001b[0m\u001b[0;34m.\u001b[0m\u001b[0mcomplex128\u001b[0m\u001b[0;34m)\u001b[0m\u001b[0;34m\u001b[0m\u001b[0;34m\u001b[0m\u001b[0m\n",
            "\u001b[0;31mTypeError\u001b[0m: Could not convert ['SYNSYNSYNSYNSYNSYNSYNSYNSYNSYN' 'RFRFRFRFRFRFRFRFRFRF'] to numeric"
          ]
        }
      ],
      "source": [
        "files_add=find_the_way(\"./results/test/\",\"_.csv\")\n",
        "files_add\n",
        "\n",
        "results=[['Attack', 'ML','Acc', 'b_Acc', 'Prec', 'Rec',\n",
        "       'F1', 'kap', 'ROC', 'tra-T', 'test-T']]\n",
        "\n",
        "\n",
        "\n",
        "for i in tqdm(files_add):\n",
        "    df=pd.read_csv(i)\n",
        "    temp=df.values\n",
        "    df=df.mean()\n",
        "    df=list(df.values)\n",
        "    temp=[temp[0][0],temp[0][4]]\n",
        "    temp=temp+df[3:]\n",
        "    results.append(temp)\n",
        "results = pd.DataFrame (results[1:], columns = results[0])\n",
        "results.to_csv(\"MEAN-resluts.csv\",index=False)\n",
        "print (tabulate(results, headers=list(results.columns)))"
      ]
    },
    {
      "cell_type": "code",
      "execution_count": null,
      "metadata": {
        "id": "TvC4jo2gpciL"
      },
      "outputs": [],
      "source": [
        "df=pd.read_csv(\"MEAN-resluts.csv\")\n",
        "bos=pd.DataFrame()\n",
        "for i in df[\"Attack\"].unique():\n",
        "    small=df[df[\"Attack\"]==i]\n",
        "    bos[i]=small[\"F1\"].values\n",
        "    print(i)\n",
        "bos.to_csv(\"tablo.csv\",index=False)"
      ]
    },
    {
      "cell_type": "code",
      "source": [],
      "metadata": {
        "id": "lqz4vA8OsQmj"
      },
      "execution_count": null,
      "outputs": []
    }
  ],
  "metadata": {
    "kernelspec": {
      "display_name": "base",
      "language": "python",
      "name": "python3"
    },
    "language_info": {
      "codemirror_mode": {
        "name": "ipython",
        "version": 3
      },
      "file_extension": ".py",
      "mimetype": "text/x-python",
      "name": "python",
      "nbconvert_exporter": "python",
      "pygments_lexer": "ipython3",
      "version": "3.12.3"
    },
    "colab": {
      "provenance": []
    }
  },
  "nbformat": 4,
  "nbformat_minor": 0
}